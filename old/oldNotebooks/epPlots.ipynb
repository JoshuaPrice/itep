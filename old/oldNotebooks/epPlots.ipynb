{
 "cells": [
  {
   "cell_type": "code",
   "execution_count": 29,
   "metadata": {
    "collapsed": true
   },
   "outputs": [],
   "source": [
    "%matplotlib inline\n",
    "import matplotlib.pyplot as plt\n",
    "import pandas as pd\n",
    "import numpy as np"
   ]
  },
  {
   "cell_type": "code",
   "execution_count": 55,
   "metadata": {
    "collapsed": false
   },
   "outputs": [
    {
     "data": {
      "text/html": [
       "<div>\n",
       "<style scoped>\n",
       "    .dataframe tbody tr th:only-of-type {\n",
       "        vertical-align: middle;\n",
       "    }\n",
       "\n",
       "    .dataframe tbody tr th {\n",
       "        vertical-align: top;\n",
       "    }\n",
       "\n",
       "    .dataframe thead th {\n",
       "        text-align: right;\n",
       "    }\n",
       "</style>\n",
       "<table border=\"1\" class=\"dataframe\">\n",
       "  <thead>\n",
       "    <tr style=\"text-align: right;\">\n",
       "      <th></th>\n",
       "      <th>Unnamed: 0</th>\n",
       "      <th>Unnamed: 0.1</th>\n",
       "      <th>Unnamed: 0.1.1</th>\n",
       "      <th>chrA</th>\n",
       "      <th>startbpA</th>\n",
       "      <th>endbpA</th>\n",
       "      <th>chrB</th>\n",
       "      <th>startbpB</th>\n",
       "      <th>endbpB</th>\n",
       "      <th>score</th>\n",
       "      <th>tadA</th>\n",
       "      <th>tadB</th>\n",
       "      <th>regA</th>\n",
       "      <th>regB</th>\n",
       "      <th>EP_Status</th>\n",
       "    </tr>\n",
       "  </thead>\n",
       "  <tbody>\n",
       "    <tr>\n",
       "      <th>0</th>\n",
       "      <td>0</td>\n",
       "      <td>0</td>\n",
       "      <td>0</td>\n",
       "      <td>chr1</td>\n",
       "      <td>85270000</td>\n",
       "      <td>85280000</td>\n",
       "      <td>chr1</td>\n",
       "      <td>87480000</td>\n",
       "      <td>87490000</td>\n",
       "      <td>805</td>\n",
       "      <td>ID_0.01_159</td>\n",
       "      <td>ID_0.01_159</td>\n",
       "      <td>P</td>\n",
       "      <td>P</td>\n",
       "      <td>intraN</td>\n",
       "    </tr>\n",
       "    <tr>\n",
       "      <th>1</th>\n",
       "      <td>1</td>\n",
       "      <td>1</td>\n",
       "      <td>1</td>\n",
       "      <td>chr11</td>\n",
       "      <td>117100000</td>\n",
       "      <td>117110000</td>\n",
       "      <td>chr11</td>\n",
       "      <td>117210000</td>\n",
       "      <td>117220000</td>\n",
       "      <td>246</td>\n",
       "      <td>ID_0.01_3838</td>\n",
       "      <td>ID_0.01_3838</td>\n",
       "      <td>P</td>\n",
       "      <td>P</td>\n",
       "      <td>intraN</td>\n",
       "    </tr>\n",
       "    <tr>\n",
       "      <th>2</th>\n",
       "      <td>2</td>\n",
       "      <td>2</td>\n",
       "      <td>2</td>\n",
       "      <td>chr11</td>\n",
       "      <td>66920000</td>\n",
       "      <td>66930000</td>\n",
       "      <td>chr11</td>\n",
       "      <td>67160000</td>\n",
       "      <td>67170000</td>\n",
       "      <td>233</td>\n",
       "      <td>NaN</td>\n",
       "      <td>ID_0.01_3626</td>\n",
       "      <td>EP</td>\n",
       "      <td>P</td>\n",
       "      <td>tadlessEP</td>\n",
       "    </tr>\n",
       "    <tr>\n",
       "      <th>3</th>\n",
       "      <td>3</td>\n",
       "      <td>3</td>\n",
       "      <td>3</td>\n",
       "      <td>chr11</td>\n",
       "      <td>77630000</td>\n",
       "      <td>77640000</td>\n",
       "      <td>chr11</td>\n",
       "      <td>77780000</td>\n",
       "      <td>77790000</td>\n",
       "      <td>222</td>\n",
       "      <td>NaN</td>\n",
       "      <td>ID_0.01_3676</td>\n",
       "      <td>P</td>\n",
       "      <td>P</td>\n",
       "      <td>tadlessN</td>\n",
       "    </tr>\n",
       "    <tr>\n",
       "      <th>4</th>\n",
       "      <td>4</td>\n",
       "      <td>4</td>\n",
       "      <td>4</td>\n",
       "      <td>chr11</td>\n",
       "      <td>116180000</td>\n",
       "      <td>116190000</td>\n",
       "      <td>chr11</td>\n",
       "      <td>116300000</td>\n",
       "      <td>116310000</td>\n",
       "      <td>203</td>\n",
       "      <td>ID_0.01_3833</td>\n",
       "      <td>ID_0.01_3833</td>\n",
       "      <td>EP</td>\n",
       "      <td>P</td>\n",
       "      <td>intraEP</td>\n",
       "    </tr>\n",
       "  </tbody>\n",
       "</table>\n",
       "</div>"
      ],
      "text/plain": [
       "   Unnamed: 0  Unnamed: 0.1  Unnamed: 0.1.1   chrA   startbpA     endbpA  \\\n",
       "0           0             0               0   chr1   85270000   85280000   \n",
       "1           1             1               1  chr11  117100000  117110000   \n",
       "2           2             2               2  chr11   66920000   66930000   \n",
       "3           3             3               3  chr11   77630000   77640000   \n",
       "4           4             4               4  chr11  116180000  116190000   \n",
       "\n",
       "    chrB   startbpB     endbpB  score          tadA          tadB regA regB  \\\n",
       "0   chr1   87480000   87490000    805   ID_0.01_159   ID_0.01_159    P    P   \n",
       "1  chr11  117210000  117220000    246  ID_0.01_3838  ID_0.01_3838    P    P   \n",
       "2  chr11   67160000   67170000    233           NaN  ID_0.01_3626   EP    P   \n",
       "3  chr11   77780000   77790000    222           NaN  ID_0.01_3676    P    P   \n",
       "4  chr11  116300000  116310000    203  ID_0.01_3833  ID_0.01_3833   EP    P   \n",
       "\n",
       "   EP_Status  \n",
       "0     intraN  \n",
       "1     intraN  \n",
       "2  tadlessEP  \n",
       "3   tadlessN  \n",
       "4    intraEP  "
      ]
     },
     "execution_count": 55,
     "metadata": {},
     "output_type": "execute_result"
    }
   ],
   "source": [
    "labeledLoopsFile = '/data2/josh/expCH12/labeled_loops_extra.csv'\n",
    "labeledLoopsDf = pd.read_csv(labeledLoopsFile, sep=\"\\t\")\n",
    "labeledLoopsDf.head(n=5)"
   ]
  },
  {
   "cell_type": "code",
   "execution_count": 57,
   "metadata": {
    "collapsed": false
   },
   "outputs": [],
   "source": [
    "numIntraEP = (labeledLoopsDf[\"EP_Status\"]==\"intraEP\").sum()\n",
    "numInterEP = (labeledLoopsDf[\"EP_Status\"]==\"interEP\").sum()\n",
    "numIntraN = (labeledLoopsDf[\"EP_Status\"]==\"intraN\").sum()\n",
    "numInterN = (labeledLoopsDf[\"EP_Status\"]==\"interN\").sum()\n",
    "numTadlessEP = (labeledLoopsDf[\"EP_Status\"]==\"tadlessEP\").sum()\n",
    "numTadlessN = (labeledLoopsDf[\"EP_Status\"]==\"tadlessN\").sum()\n",
    "numTotalValid = numIntraEP + numInterEP + numIntraN + numInterN"
   ]
  },
  {
   "cell_type": "code",
   "execution_count": 25,
   "metadata": {
    "collapsed": false
   },
   "outputs": [],
   "source": [
    "fracIntraEP = float(numIntraEP)/(numIntraEP+numIntraN)\n",
    "fracInterEP = float(numInterEP)/(numInterEP+numInterN)\n",
    "fracEPInter = float(numInterEP)/(numIntraEP+numInterEP)\n",
    "fracAllInter = float(numInterEP+numInterN)/(numTotalValid)"
   ]
  },
  {
   "cell_type": "code",
   "execution_count": 26,
   "metadata": {
    "collapsed": false
   },
   "outputs": [
    {
     "name": "stdout",
     "output_type": "stream",
     "text": [
      "Fraction of intra-TAD contacts that are EP: 0.56982131039\n",
      "Fraction of inter-TAD contacts that are EP: 0.548902195609\n",
      "Fraction of EP contacts that are inter: 0.242077464789\n",
      "Fraction of all contacts that are inter: 0.249005964215\n"
     ]
    }
   ],
   "source": [
    "print \"Fraction of intra-TAD contacts that are EP:\", fracIntraEP\n",
    "print \"Fraction of inter-TAD contacts that are EP:\", fracInterEP\n",
    "print \"Fraction of EP contacts that are inter:\", fracEPInter\n",
    "print \"Fraction of all contacts that are inter:\", fracAllInter"
   ]
  },
  {
   "cell_type": "code",
   "execution_count": 53,
   "metadata": {
    "collapsed": true
   },
   "outputs": [],
   "source": [
    "def autolabel(rects):\n",
    "    \"\"\"\n",
    "    Taken from: https://matplotlib.org/examples/api/barchart_demo.html\n",
    "    Attach a text label above each bar displaying its height\n",
    "    \"\"\"\n",
    "    for rect in rects:\n",
    "        height = rect.get_height()\n",
    "        ax.text(rect.get_x() + rect.get_width()/2., 1.05*height,\n",
    "                '%d' % int(height),\n",
    "                ha='center', va='bottom')"
   ]
  },
  {
   "cell_type": "code",
   "execution_count": 52,
   "metadata": {
    "collapsed": true
   },
   "outputs": [
    {
     "data": {
      "image/png": "[encoded data removed]",
      "text/plain": [
       "<matplotlib.figure.Figure at 0x7fd91b93eed0>"
      ]
     },
     "metadata": {},
     "output_type": "display_data"
    }
   ],
   "source": [
    "# Basic spread plot\n",
    "ind = np.arange(3)\n",
    "vals = np.array([numIntraEP+numIntraN,numInterEP+numInterN,numInvalid])\n",
    "fig, ax = plt.subplots()\n",
    "width = 0.5       # the width of the bars\n",
    "rects1 = ax.bar(ind, vals, width, color='k')\n",
    "ax.set_ylim([0,1800])\n",
    "ax.set_xticks(ind)\n",
    "ax.set_xticklabels(('Intra-TAD', 'Inter-TAD', 'TAD-less'))\n",
    "ax.set_ylabel('Occurrence Count')\n",
    "ax.set_title('Spread of all interactions in Rao 2014')\n",
    "\n",
    "autolabel(rects1)\n",
    "\n",
    "plt.show()"
   ]
  },
  {
   "cell_type": "code",
   "execution_count": 67,
   "metadata": {
    "collapsed": false
   },
   "outputs": [
    {
     "data": {
      "image/png": "[encoded data removed]",
      "text/plain": [
       "<matplotlib.figure.Figure at 0x7fd91bc02850>"
      ]
     },
     "metadata": {},
     "output_type": "display_data"
    }
   ],
   "source": [
    "# EP-distinguished spread plot\n",
    "epVals = np.array([numIntraEP,numInterEP,numTadlessEP])\n",
    "\n",
    "ind = np.arange(3)  # the x locations for the groups\n",
    "width = 0.35       # the width of the bars\n",
    "\n",
    "fig, ax = plt.subplots()\n",
    "epRects = ax.bar(ind, epVals, width, color='k')\n",
    "\n",
    "nVals = np.array([numIntraN,numInterN,numTadlessN])\n",
    "women_std = (3, 5, 2, 3, 3)\n",
    "nRects = ax.bar(ind + width, nVals, width, color='0.5')\n",
    "\n",
    "# add some text for labels, title and axes ticks\n",
    "ax.set_ylim([0,1100])\n",
    "ax.set_ylabel('Occurrence Count')\n",
    "ax.set_title('Spread of all interactions in Rao 2014')\n",
    "ax.set_xticks(ind + width / 2)\n",
    "ax.set_xticklabels(('Intra-TAD', 'Inter-TAD', 'TAD-less'))\n",
    "\n",
    "ax.legend((epRects[0], nRects[0]), ('E-P', 'Not E-P'))\n",
    "\n",
    "\n",
    "autolabel(epRects)\n",
    "autolabel(nRects)\n",
    "\n",
    "plt.show()"
   ]
  }
 ],
 "metadata": {
  "kernelspec": {
   "display_name": "Python 2",
   "language": "python",
   "name": "python2"
  },
  "language_info": {
   "codemirror_mode": {
    "name": "ipython",
    "version": 2
   },
   "file_extension": ".py",
   "mimetype": "text/x-python",
   "name": "python",
   "nbconvert_exporter": "python",
   "pygments_lexer": "ipython2",
   "version": "2.7.6"
  }
 },
 "nbformat": 4,
 "nbformat_minor": 0
}
