{
 "cells": [
  {
   "cell_type": "code",
   "execution_count": 1,
   "metadata": {},
   "outputs": [],
   "source": [
    "# Generate distributions of contact (pixel) strength for FOCS predicted EPIs\n",
    "# Author: Joshua Price\n",
    "# Started: Nov 20, 2018\n",
    "# Last Edited: Nov 23, 2018\n",
    "# Runtime: ~20 min on alineos\n",
    "\n",
    "import math\n",
    "import pandas as pd\n",
    "import matplotlib\n",
    "import matplotlib.pyplot as plt\n",
    "import seaborn as sns\n",
    "import cooler"
   ]
  },
  {
   "cell_type": "code",
   "execution_count": 2,
   "metadata": {},
   "outputs": [
    {
     "data": {
      "text/html": [
       "<div>\n",
       "<style scoped>\n",
       "    .dataframe tbody tr th:only-of-type {\n",
       "        vertical-align: middle;\n",
       "    }\n",
       "\n",
       "    .dataframe tbody tr th {\n",
       "        vertical-align: top;\n",
       "    }\n",
       "\n",
       "    .dataframe thead th {\n",
       "        text-align: right;\n",
       "    }\n",
       "</style>\n",
       "<table border=\"1\" class=\"dataframe\">\n",
       "  <thead>\n",
       "    <tr style=\"text-align: right;\">\n",
       "      <th></th>\n",
       "      <th>p_chr</th>\n",
       "      <th>p_start</th>\n",
       "      <th>p_end</th>\n",
       "      <th>p_dir</th>\n",
       "      <th>contact_id</th>\n",
       "      <th>e_chr</th>\n",
       "      <th>e_start</th>\n",
       "      <th>e_end</th>\n",
       "      <th>p_center</th>\n",
       "      <th>e_center</th>\n",
       "      <th>distance</th>\n",
       "    </tr>\n",
       "  </thead>\n",
       "  <tbody>\n",
       "    <tr>\n",
       "      <th>3</th>\n",
       "      <td>chr1</td>\n",
       "      <td>9631149</td>\n",
       "      <td>9631173</td>\n",
       "      <td>-</td>\n",
       "      <td>EP00004</td>\n",
       "      <td>chr1</td>\n",
       "      <td>9613909</td>\n",
       "      <td>9614261</td>\n",
       "      <td>9631161.0</td>\n",
       "      <td>9614085.0</td>\n",
       "      <td>17076.0</td>\n",
       "    </tr>\n",
       "    <tr>\n",
       "      <th>4</th>\n",
       "      <td>chr1</td>\n",
       "      <td>9748247</td>\n",
       "      <td>9748272</td>\n",
       "      <td>-</td>\n",
       "      <td>EP00005</td>\n",
       "      <td>chr1</td>\n",
       "      <td>9798749</td>\n",
       "      <td>9799747</td>\n",
       "      <td>9748259.5</td>\n",
       "      <td>9799248.0</td>\n",
       "      <td>50988.5</td>\n",
       "    </tr>\n",
       "    <tr>\n",
       "      <th>5</th>\n",
       "      <td>chr1</td>\n",
       "      <td>9748247</td>\n",
       "      <td>9748272</td>\n",
       "      <td>-</td>\n",
       "      <td>EP00006</td>\n",
       "      <td>chr1</td>\n",
       "      <td>9396999</td>\n",
       "      <td>9397125</td>\n",
       "      <td>9748259.5</td>\n",
       "      <td>9397062.0</td>\n",
       "      <td>351197.5</td>\n",
       "    </tr>\n",
       "    <tr>\n",
       "      <th>6</th>\n",
       "      <td>chr1</td>\n",
       "      <td>9748277</td>\n",
       "      <td>9748320</td>\n",
       "      <td>-</td>\n",
       "      <td>EP00007</td>\n",
       "      <td>chr1</td>\n",
       "      <td>9798749</td>\n",
       "      <td>9799747</td>\n",
       "      <td>9748298.5</td>\n",
       "      <td>9799248.0</td>\n",
       "      <td>50949.5</td>\n",
       "    </tr>\n",
       "    <tr>\n",
       "      <th>7</th>\n",
       "      <td>chr1</td>\n",
       "      <td>9748277</td>\n",
       "      <td>9748320</td>\n",
       "      <td>-</td>\n",
       "      <td>EP00008</td>\n",
       "      <td>chr1</td>\n",
       "      <td>9396999</td>\n",
       "      <td>9397125</td>\n",
       "      <td>9748298.5</td>\n",
       "      <td>9397062.0</td>\n",
       "      <td>351236.5</td>\n",
       "    </tr>\n",
       "  </tbody>\n",
       "</table>\n",
       "</div>"
      ],
      "text/plain": [
       "  p_chr  p_start    p_end p_dir contact_id e_chr  e_start    e_end   p_center  \\\n",
       "3  chr1  9631149  9631173     -    EP00004  chr1  9613909  9614261  9631161.0   \n",
       "4  chr1  9748247  9748272     -    EP00005  chr1  9798749  9799747  9748259.5   \n",
       "5  chr1  9748247  9748272     -    EP00006  chr1  9396999  9397125  9748259.5   \n",
       "6  chr1  9748277  9748320     -    EP00007  chr1  9798749  9799747  9748298.5   \n",
       "7  chr1  9748277  9748320     -    EP00008  chr1  9396999  9397125  9748298.5   \n",
       "\n",
       "    e_center  distance  \n",
       "3  9614085.0   17076.0  \n",
       "4  9799248.0   50988.5  \n",
       "5  9397062.0  351197.5  \n",
       "6  9799248.0   50949.5  \n",
       "7  9397062.0  351236.5  "
      ]
     },
     "execution_count": 2,
     "metadata": {},
     "output_type": "execute_result"
    }
   ],
   "source": [
    "# Import promoter list from FOCS\n",
    "ep = pd.read_csv('/data2/josh/ep/fantom_mm10_E-P.txt', sep='\\t', header=None, usecols=[0,1,2,3,4,5,6,7])\n",
    "ep.columns = ['p_chr', 'p_start', 'p_end', 'p_dir', 'contact_id','e_chr','e_start','e_end']\n",
    "ep['p_center'] = (ep['p_start']+ep['p_end'])/2\n",
    "ep['e_center'] = (ep['e_start']+ep['e_end'])/2\n",
    "ep['distance'] = abs(ep['p_center'] - ep['e_center'])\n",
    "ep_long = ep[ep['distance'] > 5000]\n",
    "ep_long.head()"
   ]
  },
  {
   "cell_type": "code",
   "execution_count": 2,
   "metadata": {},
   "outputs": [],
   "source": [
    "# import cooler data\n",
    "c = cooler.Cooler('/data2/josh/stan/merge_res200.cool')"
   ]
  },
  {
   "cell_type": "code",
   "execution_count": 3,
   "metadata": {
    "scrolled": true
   },
   "outputs": [
    {
     "data": {
      "text/html": [
       "<div>\n",
       "<style scoped>\n",
       "    .dataframe tbody tr th:only-of-type {\n",
       "        vertical-align: middle;\n",
       "    }\n",
       "\n",
       "    .dataframe tbody tr th {\n",
       "        vertical-align: top;\n",
       "    }\n",
       "\n",
       "    .dataframe thead th {\n",
       "        text-align: right;\n",
       "    }\n",
       "</style>\n",
       "<table border=\"1\" class=\"dataframe\">\n",
       "  <thead>\n",
       "    <tr style=\"text-align: right;\">\n",
       "      <th></th>\n",
       "      <th>bin1_id</th>\n",
       "      <th>bin2_id</th>\n",
       "      <th>count</th>\n",
       "    </tr>\n",
       "  </thead>\n",
       "  <tbody>\n",
       "    <tr>\n",
       "      <th>49999995</th>\n",
       "      <td>620743</td>\n",
       "      <td>11784127</td>\n",
       "      <td>1</td>\n",
       "    </tr>\n",
       "    <tr>\n",
       "      <th>49999996</th>\n",
       "      <td>620743</td>\n",
       "      <td>12444790</td>\n",
       "      <td>1</td>\n",
       "    </tr>\n",
       "    <tr>\n",
       "      <th>49999997</th>\n",
       "      <td>620743</td>\n",
       "      <td>13131240</td>\n",
       "      <td>1</td>\n",
       "    </tr>\n",
       "    <tr>\n",
       "      <th>49999998</th>\n",
       "      <td>620744</td>\n",
       "      <td>620745</td>\n",
       "      <td>3</td>\n",
       "    </tr>\n",
       "    <tr>\n",
       "      <th>49999999</th>\n",
       "      <td>620744</td>\n",
       "      <td>620746</td>\n",
       "      <td>8</td>\n",
       "    </tr>\n",
       "  </tbody>\n",
       "</table>\n",
       "</div>"
      ],
      "text/plain": [
       "          bin1_id   bin2_id  count\n",
       "49999995   620743  11784127      1\n",
       "49999996   620743  12444790      1\n",
       "49999997   620743  13131240      1\n",
       "49999998   620744    620745      3\n",
       "49999999   620744    620746      8"
      ]
     },
     "execution_count": 3,
     "metadata": {},
     "output_type": "execute_result"
    }
   ],
   "source": [
    "# create df with pixels - takes a while (sometimes crashes kernel)\n",
    "pix = c.pixels()\n",
    "p = pix[:100000000]\n",
    "p.tail()"
   ]
  },
  {
   "cell_type": "code",
   "execution_count": 5,
   "metadata": {},
   "outputs": [
    {
     "data": {
      "text/plain": [
       "29"
      ]
     },
     "execution_count": 5,
     "metadata": {},
     "output_type": "execute_result"
    }
   ],
   "source": [
    "p[p['bin1_id']==15000].shape[0]"
   ]
  },
  {
   "cell_type": "code",
   "execution_count": null,
   "metadata": {},
   "outputs": [],
   "source": [
    "def to_int(f):\n",
    "    if math.isnan(f):\n",
    "        return 0\n",
    "    else:\n",
    "        return int(f)"
   ]
  },
  {
   "cell_type": "code",
   "execution_count": null,
   "metadata": {
    "scrolled": true
   },
   "outputs": [],
   "source": [
    "ep_long['p_bin'] = (ep_long['p_center']/200).apply(to_int)\n",
    "ep_long['e_bin'] = (ep_long['e_center']/200).apply(to_int)"
   ]
  },
  {
   "cell_type": "code",
   "execution_count": null,
   "metadata": {},
   "outputs": [],
   "source": [
    "ep_long1 = ep_long[(ep_long['p_chr'] == 'chr1') & (ep_long['e_chr'] == 'chr1')]\n",
    "max(max(ep_long1['p_bin']),max(ep_long1['e_bin']))"
   ]
  },
  {
   "cell_type": "code",
   "execution_count": null,
   "metadata": {},
   "outputs": [],
   "source": [
    "ep_long1.tail()"
   ]
  },
  {
   "cell_type": "code",
   "execution_count": null,
   "metadata": {},
   "outputs": [],
   "source": [
    "p_chr1 = p[p['bin2_id'] < 975883]"
   ]
  },
  {
   "cell_type": "code",
   "execution_count": null,
   "metadata": {},
   "outputs": [],
   "source": [
    "ep_long_few = ep_long1.head()\n",
    "# ep_long_few['score'] = 0\n",
    "counts = [] * ep_long.shape[0]\n",
    "\n",
    "for idx, row in ep_long1.iterrows():\n",
    "    p_bin = row['p_bin']\n",
    "    e_bin = row['e_bin']\n",
    "    count_series = p_chr1[(p_chr1['bin1_id']==p_bin) & (p_chr1['bin2_id']==e_bin)]['count']\n",
    "    if count_series.empty:\n",
    "        count_series = p_chr1[(p_chr1['bin1_id']==e_bin) & (p_chr1['bin2_id']==p_bin)]['count']\n",
    "        # ep_long_few.loc[idx,'score'] = 0\n",
    "    if count_series.empty: # still\n",
    "        counts.append(0)\n",
    "    else:\n",
    "        # ep_long_few.loc[idx,'score'] = count_series.iloc[0]\n",
    "        counts.append(count_series.iloc[0])\n",
    "    if ((idx % 100 == 0) & (idx > 0)):\n",
    "        print(idx)\n",
    "\n",
    "ep_long_few['score'] = counts"
   ]
  },
  {
   "cell_type": "code",
   "execution_count": null,
   "metadata": {},
   "outputs": [],
   "source": [
    "sns.countplot(x='score', data=ep_long1)\n",
    "plt.title('Score Distribution of EPIs')"
   ]
  },
  {
   "cell_type": "code",
   "execution_count": null,
   "metadata": {},
   "outputs": [],
   "source": [
    "plt.title('Score Distribution of all contacts')\n",
    "sns.countplot(x='count',data=p_chr1[0:10000])"
   ]
  }
 ],
 "metadata": {
  "kernelspec": {
   "display_name": "Python 3",
   "language": "python",
   "name": "python3"
  },
  "language_info": {
   "codemirror_mode": {
    "name": "ipython",
    "version": 3
   },
   "file_extension": ".py",
   "mimetype": "text/x-python",
   "name": "python",
   "nbconvert_exporter": "python",
   "pygments_lexer": "ipython3",
   "version": "3.4.3"
  }
 },
 "nbformat": 4,
 "nbformat_minor": 2
}
