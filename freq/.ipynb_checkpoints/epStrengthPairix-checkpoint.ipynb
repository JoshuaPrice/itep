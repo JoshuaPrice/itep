{
 "cells": [
  {
   "cell_type": "code",
   "execution_count": 14,
   "metadata": {},
   "outputs": [],
   "source": [
    "# Generate distributions of contact (from pairix) strength for FOCS predicted EPIs\n",
    "# Author: Joshua Price\n",
    "# Started: Nov 25, 2018\n",
    "# Last Edited: Nov 27, 2018\n",
    "# Runtime: ~30 min\n",
    "\n",
    "import pandas as pd\n",
    "import matplotlib\n",
    "import matplotlib.pyplot as plt\n",
    "import seaborn as sns"
   ]
  },
  {
   "cell_type": "code",
   "execution_count": 15,
   "metadata": {},
   "outputs": [],
   "source": [
    "chrnum = 'X'\n",
    "chr_run = 'chr' + chrnum"
   ]
  },
  {
   "cell_type": "code",
   "execution_count": 16,
   "metadata": {},
   "outputs": [],
   "source": [
    "# Import promoter list from FOCS\n",
    "ep = pd.read_csv('/data2/josh/ep/fantom_mm10_E-P.txt', sep='\\t', header=None, usecols=[0,1,2,3,4,5,6,7])\n",
    "ep.columns = ['p_chr', 'p_start', 'p_end', 'p_dir', 'contact_id','e_chr','e_start','e_end']\n",
    "ep['p_center'] = (ep['p_start']+ep['p_end'])/2\n",
    "ep['e_center'] = (ep['e_start']+ep['e_end'])/2\n",
    "ep['distance'] = abs(ep['p_center'] - ep['e_center'])\n",
    "ep_long = ep[ep['distance'] > 5000]\n",
    "epoi = ep_long[(ep_long['p_chr']==chr_run) & (ep_long['e_chr']==chr_run)]"
   ]
  },
  {
   "cell_type": "code",
   "execution_count": 17,
   "metadata": {},
   "outputs": [
    {
     "data": {
      "text/plain": [
       "(540, 11)"
      ]
     },
     "execution_count": 17,
     "metadata": {},
     "output_type": "execute_result"
    }
   ],
   "source": [
    "epoi.shape"
   ]
  },
  {
   "cell_type": "code",
   "execution_count": 18,
   "metadata": {},
   "outputs": [],
   "source": [
    "# Import chr1 contact list (takes ~90 sec on Alineos)\n",
    "pairs = pd.read_csv('/data2/josh/contacts/pairsChr' + chrnum + '.csv')"
   ]
  },
  {
   "cell_type": "code",
   "execution_count": 19,
   "metadata": {},
   "outputs": [],
   "source": [
    "pairs_long = pairs[(pairs['pos2'] - pairs['pos1'] > 5000)]"
   ]
  },
  {
   "cell_type": "code",
   "execution_count": 20,
   "metadata": {},
   "outputs": [
    {
     "name": "stderr",
     "output_type": "stream",
     "text": [
      "/usr/local/lib/python3.4/dist-packages/pandas/core/indexing.py:357: SettingWithCopyWarning: \n",
      "A value is trying to be set on a copy of a slice from a DataFrame.\n",
      "Try using .loc[row_indexer,col_indexer] = value instead\n",
      "\n",
      "See the caveats in the documentation: http://pandas.pydata.org/pandas-docs/stable/indexing.html#indexing-view-versus-copy\n",
      "  self.obj[key] = _infer_fill_value(value)\n",
      "/usr/local/lib/python3.4/dist-packages/pandas/core/indexing.py:537: SettingWithCopyWarning: \n",
      "A value is trying to be set on a copy of a slice from a DataFrame.\n",
      "Try using .loc[row_indexer,col_indexer] = value instead\n",
      "\n",
      "See the caveats in the documentation: http://pandas.pydata.org/pandas-docs/stable/indexing.html#indexing-view-versus-copy\n",
      "  self.obj[item] = s\n"
     ]
    },
    {
     "name": "stdout",
     "output_type": "stream",
     "text": [
      "0.003025064822817632\n",
      "0.007346585998271392\n",
      "0.010371650821089023\n",
      "0.014693171996542784\n",
      "0.018150388936905792\n",
      "0.022039757994814176\n",
      "0.02592912705272256\n",
      "0.029818496110630942\n",
      "0.03327571305099395\n",
      "0.03759723422644771\n",
      "0.04148660328435609\n",
      "0.0449438202247191\n",
      "0.04840103716508211\n",
      "0.05229040622299049\n",
      "0.055315471045808126\n",
      "0.05920484010371651\n",
      "0.06179775280898876\n",
      "0.06525496974935177\n",
      "0.06957649092480553\n",
      "0.07389801210025929\n",
      "0.07778738115816768\n",
      "0.08038029386343994\n",
      "0.08426966292134831\n",
      "0.08686257562662057\n",
      "0.09334485738980121\n",
      "0.09766637856525497\n",
      "0.10198789974070872\n",
      "0.1063094209161625\n",
      "0.10933448573898012\n",
      "0.11365600691443388\n",
      "0.11797752808988764\n",
      "0.1222990492653414\n",
      "0.12662057044079517\n",
      "0.13050993949870354\n",
      "0.13267070008643042\n",
      "0.13699222126188418\n",
      "0.13958513396715644\n",
      "0.1439066551426102\n",
      "0.14822817631806395\n",
      "0.15211754537597233\n",
      "0.15643906655142611\n",
      "0.1603284356093345\n",
      "0.16378565254969749\n",
      "0.1676750216076059\n",
      "0.17199654278305965\n",
      "0.1763180639585134\n",
      "0.1797752808988764\n",
      "0.18409680207433016\n",
      "0.18841832324978391\n",
      "0.19273984442523767\n",
      "0.19706136560069146\n",
      "0.20095073465859983\n",
      "0.2052722558340536\n",
      "0.20959377700950735\n",
      "0.2139152981849611\n",
      "0.21823681936041486\n",
      "0.22255834053586862\n",
      "0.22904062229904926\n",
      "0.23292999135695766\n"
     ]
    }
   ],
   "source": [
    "# Label promoters and enhancers as contacting or not (takes ~30 min)\n",
    "contacting_list = [None] * epoi.shape[0]\n",
    "counter = 0\n",
    "for idx, row in epoi.iterrows():\n",
    "    e_start = row.e_start\n",
    "    e_end = row.e_end\n",
    "    p_start = row.p_start\n",
    "    p_end = row.p_end\n",
    "\n",
    "    contacts = pairs_long[((pairs_long['pos1'] > e_start) & (pairs_long['pos1'] < e_end) & \n",
    "                     (pairs_long['pos2'] > p_start) & (pairs_long['pos2'] < p_end)) |\n",
    "                    ((pairs_long['pos2'] > e_start) & (pairs_long['pos2'] < e_end) & \n",
    "                     (pairs_long['pos1'] > p_start) & (pairs_long['pos1'] < p_end))]\n",
    "\n",
    "    if contacts.empty:\n",
    "        epoi.loc[idx,'ep_status'] = 'N'\n",
    "    else:\n",
    "        epoi.loc[idx,'ep_status'] = 'EP'\n",
    "    if idx % 10 == 0:\n",
    "        print(counter / 2314)\n",
    "    counter += 1\n",
    "\n",
    "# epoi['ep_status'] = contacting_list"
   ]
  },
  {
   "cell_type": "code",
   "execution_count": 21,
   "metadata": {},
   "outputs": [],
   "source": [
    "activeEP = epoi[epoi['ep_status']=='EP']"
   ]
  },
  {
   "cell_type": "code",
   "execution_count": 22,
   "metadata": {
    "scrolled": true
   },
   "outputs": [
    {
     "data": {
      "text/html": [
       "<div>\n",
       "<style scoped>\n",
       "    .dataframe tbody tr th:only-of-type {\n",
       "        vertical-align: middle;\n",
       "    }\n",
       "\n",
       "    .dataframe tbody tr th {\n",
       "        vertical-align: top;\n",
       "    }\n",
       "\n",
       "    .dataframe thead th {\n",
       "        text-align: right;\n",
       "    }\n",
       "</style>\n",
       "<table border=\"1\" class=\"dataframe\">\n",
       "  <thead>\n",
       "    <tr style=\"text-align: right;\">\n",
       "      <th></th>\n",
       "      <th>chrom</th>\n",
       "      <th>start</th>\n",
       "      <th>end</th>\n",
       "    </tr>\n",
       "  </thead>\n",
       "  <tbody>\n",
       "    <tr>\n",
       "      <th>2202</th>\n",
       "      <td>chrX</td>\n",
       "      <td>161385000</td>\n",
       "      <td>161825000</td>\n",
       "    </tr>\n",
       "    <tr>\n",
       "      <th>2203</th>\n",
       "      <td>chrX</td>\n",
       "      <td>71640000</td>\n",
       "      <td>71965000</td>\n",
       "    </tr>\n",
       "    <tr>\n",
       "      <th>2204</th>\n",
       "      <td>chrX</td>\n",
       "      <td>94240000</td>\n",
       "      <td>94635000</td>\n",
       "    </tr>\n",
       "    <tr>\n",
       "      <th>2205</th>\n",
       "      <td>chrX</td>\n",
       "      <td>139370000</td>\n",
       "      <td>139685000</td>\n",
       "    </tr>\n",
       "    <tr>\n",
       "      <th>2206</th>\n",
       "      <td>chrX</td>\n",
       "      <td>134060000</td>\n",
       "      <td>134455000</td>\n",
       "    </tr>\n",
       "  </tbody>\n",
       "</table>\n",
       "</div>"
      ],
      "text/plain": [
       "     chrom      start        end\n",
       "2202  chrX  161385000  161825000\n",
       "2203  chrX   71640000   71965000\n",
       "2204  chrX   94240000   94635000\n",
       "2205  chrX  139370000  139685000\n",
       "2206  chrX  134060000  134455000"
      ]
     },
     "execution_count": 22,
     "metadata": {},
     "output_type": "execute_result"
    }
   ],
   "source": [
    "# Import TADs\n",
    "tads = pd.read_csv('/data2/josh/tads/TAD_mm10.csv', delimiter='\\t')\n",
    "tads = tads[tads['chrom'] == chr_run]\n",
    "tads.head()"
   ]
  },
  {
   "cell_type": "code",
   "execution_count": 23,
   "metadata": {
    "scrolled": true
   },
   "outputs": [
    {
     "name": "stderr",
     "output_type": "stream",
     "text": [
      "/usr/local/lib/python3.4/dist-packages/ipykernel_launcher.py:3: SettingWithCopyWarning: \n",
      "A value is trying to be set on a copy of a slice from a DataFrame.\n",
      "Try using .loc[row_indexer,col_indexer] = value instead\n",
      "\n",
      "See the caveats in the documentation: http://pandas.pydata.org/pandas-docs/stable/indexing.html#indexing-view-versus-copy\n",
      "  This is separate from the ipykernel package so we can avoid doing imports until\n",
      "/usr/local/lib/python3.4/dist-packages/pandas/core/indexing.py:537: SettingWithCopyWarning: \n",
      "A value is trying to be set on a copy of a slice from a DataFrame.\n",
      "Try using .loc[row_indexer,col_indexer] = value instead\n",
      "\n",
      "See the caveats in the documentation: http://pandas.pydata.org/pandas-docs/stable/indexing.html#indexing-view-versus-copy\n",
      "  self.obj[item] = s\n"
     ]
    }
   ],
   "source": [
    "# Label EPIs as Inter or Intra\n",
    "# pix1_tad_list1 = [None] * pix1.shape[0]\n",
    "activeEP['tad_status'] = ''\n",
    "for idx, row in activeEP.iterrows():\n",
    "    p_start = row['p_start']\n",
    "    p_end = row['p_end']\n",
    "    e_start = row['e_start']\n",
    "    e_end = row['e_end']\n",
    "    \n",
    "    p_tad_matches = tads[((tads['start'] < p_start) & (tads['end'] > p_end))]\n",
    "    e_tad_matches = tads[((tads['start'] < e_start) & (tads['end'] > e_end))]\n",
    "    if p_tad_matches.empty and e_tad_matches.empty:\n",
    "        activeEP.loc[idx,'tad_status'] = 'TAD-less'\n",
    "    elif (p_tad_matches.empty and not e_tad_matches.empty) or (e_tad_matches.empty and not p_tad_matches.empty):\n",
    "        activeEP.loc[idx,'tad_status'] = 'Inter'\n",
    "    elif p_tad_matches.index[0] == e_tad_matches.index[0]:\n",
    "        activeEP.loc[idx,'tad_status'] = 'Intra'\n",
    "    else:\n",
    "        activeEP.loc[idx,'tad_status'] = 'Inter'"
   ]
  },
  {
   "cell_type": "code",
   "execution_count": 24,
   "metadata": {},
   "outputs": [
    {
     "data": {
      "text/plain": [
       "TAD-less    3\n",
       "Name: tad_status, dtype: int64"
      ]
     },
     "execution_count": 24,
     "metadata": {},
     "output_type": "execute_result"
    }
   ],
   "source": [
    "activeEP['tad_status'].value_counts()"
   ]
  },
  {
   "cell_type": "code",
   "execution_count": 25,
   "metadata": {},
   "outputs": [
    {
     "data": {
      "image/png": "[encoded data removed]",
      "text/plain": [
       "<Figure size 432x288 with 1 Axes>"
      ]
     },
     "metadata": {
      "needs_background": "light"
     },
     "output_type": "display_data"
    }
   ],
   "source": [
    "ax2 = sns.countplot(x=\"tad_status\", data=activeEP)"
   ]
  },
  {
   "cell_type": "code",
   "execution_count": 26,
   "metadata": {},
   "outputs": [],
   "source": [
    "activeEP.to_csv('/data2/josh/ep/activePairixChr' + chrnum + '.csv')"
   ]
  },
  {
   "cell_type": "code",
   "execution_count": null,
   "metadata": {},
   "outputs": [],
   "source": []
  }
 ],
 "metadata": {
  "kernelspec": {
   "display_name": "Python 3",
   "language": "python",
   "name": "python3"
  },
  "language_info": {
   "codemirror_mode": {
    "name": "ipython",
    "version": 3
   },
   "file_extension": ".py",
   "mimetype": "text/x-python",
   "name": "python",
   "nbconvert_exporter": "python",
   "pygments_lexer": "ipython3",
   "version": "3.4.3"
  }
 },
 "nbformat": 4,
 "nbformat_minor": 2
}
