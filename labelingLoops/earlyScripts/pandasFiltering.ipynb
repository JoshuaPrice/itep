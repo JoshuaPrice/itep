{
 "cells": [
  {
   "cell_type": "code",
   "execution_count": 4,
   "metadata": {
    "collapsed": false
   },
   "outputs": [
    {
     "name": "stdout",
     "output_type": "stream",
     "text": [
      "  original df       expr 1           expr2          \n",
      "            a  b  c      a    b    c     a    b    c\n",
      "0           0  0  0    0.0  0.0  0.0   0.0  0.0  0.0\n",
      "1          -1 -1 -1    NaN  NaN  NaN   NaN  NaN  NaN\n",
      "2           2  2  2    2.0  2.0  2.0   2.0  2.0  2.0\n",
      "3          -1  3  3   -1.0  3.0  3.0  -1.0  3.0  3.0\n",
      "4           4 -1 -1    NaN  NaN  NaN   4.0 -1.0 -1.0\n"
     ]
    }
   ],
   "source": [
    "import pandas as pd\n",
    "\n",
    "df = pd.DataFrame({'a': range(5), 'b': range(5), 'c': range(5) })\n",
    "\n",
    "# let's insert some -1 values\n",
    "df['a'][1] = -1\n",
    "df['b'][1] = -1\n",
    "df['a'][3] = -1\n",
    "df['b'][4] = -1\n",
    "df['c'][1] = -1\n",
    "df['c'][4] = -1\n",
    "\n",
    "df1 = df[((df.a != -1) & (df.b != -1)) | ((df.a == -1) & (df.c != -1))]\n",
    "df2 = df[(df.a != -1) | (df.b != -1)]\n",
    "\n",
    "print pd.concat([df, df1, df2], axis=1,\n",
    "                keys = [ 'original df', 'expr 1', 'expr2',])"
   ]
  },
  {
   "cell_type": "code",
   "execution_count": null,
   "metadata": {
    "collapsed": true
   },
   "outputs": [],
   "source": [
    "}"
   ]
  }
 ],
 "metadata": {
  "kernelspec": {
   "display_name": "Python 2",
   "language": "python",
   "name": "python2"
  },
  "language_info": {
   "codemirror_mode": {
    "name": "ipython",
    "version": 2
   },
   "file_extension": ".py",
   "mimetype": "text/x-python",
   "name": "python",
   "nbconvert_exporter": "python",
   "pygments_lexer": "ipython2",
   "version": "2.7.6"
  }
 },
 "nbformat": 4,
 "nbformat_minor": 0
}
