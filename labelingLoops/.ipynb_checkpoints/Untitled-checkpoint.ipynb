{
 "cells": [
  {
   "cell_type": "code",
   "execution_count": 31,
   "metadata": {
    "collapsed": false
   },
   "outputs": [],
   "source": [
    "%matplotlib nbagg\n",
    "import pandas as pd\n",
    "import sqlite3 as sql3\n",
    "import matplotlib.pyplot as plt\n",
    "import numpy as np\n",
    "from epPlots import autolabel"
   ]
  },
  {
   "cell_type": "code",
   "execution_count": 3,
   "metadata": {
    "collapsed": true
   },
   "outputs": [],
   "source": [
    "def plotContactDistances():\n",
    "\t# Import df from sqlite\n",
    "\tsqlite_file = 'my_first_db.sqlite'    # name of the sqlite database file\n",
    "\tconn = sql3.connect(sqlite_file)\n",
    "\tc = conn.cursor()\n",
    "\tcontactsDf = pd.read_sql_query(\"select * from AutoEP;\", conn)\n",
    "\tconn.commit()\n",
    "\tc.close()\n",
    "\tconn.close()\n",
    "\n",
    "\tcontactDistDf = contactsDf[\"startbpB\"].subtract(contactsDf[\"endbpA\"])\n",
    "\n",
    "\tfig, ax = plt.subplots()\n",
    "\tax.set_xlabel('Contact Interaction Distance')\n",
    "\tax.set_ylabel('Occurrence Count')\n",
    "\tax.set_title('Distribution of contact distances in Rao 2014 CH12 cells')\n",
    "\n",
    "\tcontactDistDf.plot.hist(bins=24, range=(0,1.2e6)) # I think spread is too wide for this - need to do more manually\n",
    "\n",
    "\tplt.show()"
   ]
  },
  {
   "cell_type": "code",
   "execution_count": 61,
   "metadata": {
    "collapsed": false
   },
   "outputs": [],
   "source": [
    "def plotTadJumps():\n",
    "\t# Import df from sqlite\n",
    "\tsqlite_file = 'my_first_db.sqlite'    # name of the sqlite database file\n",
    "\tconn = sql3.connect(sqlite_file)\n",
    "\tc = conn.cursor()\n",
    "\tcontactsDf = pd.read_sql_query(\"select * from AutoEP;\", conn)\n",
    "\tconn.commit()\n",
    "\tc.close()\n",
    "\tconn.close()\n",
    "\n",
    "\tsplitTadsA = contactsDf['tadA'].str.split(pat='_').str[2]\n",
    "\tsplitTadsB = contactsDf['tadB'].str.split(pat='_').str[2]    \n",
    "\t# tadsDf = contactsDf[['tadA', 'tadB']].copy()\n",
    "    \n",
    "\tnumTadA = pd.to_numeric(splitTadsA)\n",
    "\tnumTadB = pd.to_numeric(splitTadsB)\n",
    "    \n",
    "    filtTadsA =numTadA[(numTadA != 0) & (numTadA != None)]\n",
    "\n",
    "\ttadDistDf = numTadB.subtract(numTadB)\n",
    "\tprint tadDistDf\n",
    "    \n",
    "    \n",
    "    "
   ]
  },
  {
   "cell_type": "code",
   "execution_count": 62,
   "metadata": {
    "collapsed": false
   },
   "outputs": [
    {
     "name": "stdout",
     "output_type": "stream",
     "text": [
      "0       0.0\n",
      "1       0.0\n",
      "2       0.0\n",
      "3       0.0\n",
      "4       0.0\n",
      "5       0.0\n",
      "6       0.0\n",
      "7       0.0\n",
      "8       0.0\n",
      "9       NaN\n",
      "10      NaN\n",
      "11      NaN\n",
      "12      0.0\n",
      "13      0.0\n",
      "14      0.0\n",
      "15      0.0\n",
      "16      0.0\n",
      "17      0.0\n",
      "18      0.0\n",
      "19      0.0\n",
      "20      0.0\n",
      "21      0.0\n",
      "22      NaN\n",
      "23      0.0\n",
      "24      NaN\n",
      "25      NaN\n",
      "26      0.0\n",
      "27      0.0\n",
      "28      0.0\n",
      "29      NaN\n",
      "       ... \n",
      "3301    0.0\n",
      "3302    0.0\n",
      "3303    NaN\n",
      "3304    0.0\n",
      "3305    0.0\n",
      "3306    0.0\n",
      "3307    0.0\n",
      "3308    0.0\n",
      "3309    0.0\n",
      "3310    0.0\n",
      "3311    0.0\n",
      "3312    0.0\n",
      "3313    0.0\n",
      "3314    0.0\n",
      "3315    0.0\n",
      "3316    0.0\n",
      "3317    0.0\n",
      "3318    0.0\n",
      "3319    0.0\n",
      "3320    0.0\n",
      "3321    0.0\n",
      "3322    0.0\n",
      "3323    NaN\n",
      "3324    0.0\n",
      "3325    0.0\n",
      "3326    0.0\n",
      "3327    0.0\n",
      "3328    0.0\n",
      "3329    0.0\n",
      "3330    0.0\n",
      "Name: tadB, Length: 3331, dtype: float64\n"
     ]
    }
   ],
   "source": [
    "if __name__ == \"__main__\":\n",
    "\t# recall TAD and reg labeled contacts file\n",
    "\t# plotContactDistances()\n",
    "\tplotTadJumps()"
   ]
  },
  {
   "cell_type": "code",
   "execution_count": null,
   "metadata": {
    "collapsed": true
   },
   "outputs": [],
   "source": []
  }
 ],
 "metadata": {
  "kernelspec": {
   "display_name": "Python 2",
   "language": "python",
   "name": "python2"
  },
  "language_info": {
   "codemirror_mode": {
    "name": "ipython",
    "version": 2
   },
   "file_extension": ".py",
   "mimetype": "text/x-python",
   "name": "python",
   "nbconvert_exporter": "python",
   "pygments_lexer": "ipython2",
   "version": "2.7.6"
  }
 },
 "nbformat": 4,
 "nbformat_minor": 0
}
