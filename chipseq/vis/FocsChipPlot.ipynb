{
 "cells": [
  {
   "cell_type": "code",
   "execution_count": 388,
   "metadata": {},
   "outputs": [],
   "source": [
    "import numpy as np\n",
    "import pandas as pd\n",
    "import cooler\n",
    "import matplotlib\n",
    "import matplotlib.pyplot as plt\n",
    "import seaborn as sns\n",
    "plt.style.use('ggplot')\n",
    "\n",
    "import numpy as np\n",
    "from numpy.random import uniform"
   ]
  },
  {
   "cell_type": "code",
   "execution_count": 516,
   "metadata": {},
   "outputs": [],
   "source": [
    "ep_long = pd.read_csv('/data2/josh/ep/activePairixAll.csv')"
   ]
  },
  {
   "cell_type": "code",
   "execution_count": 517,
   "metadata": {},
   "outputs": [
    {
     "name": "stdout",
     "output_type": "stream",
     "text": [
      "0.0\n"
     ]
    }
   ],
   "source": [
    "# Add chromatin labels\n",
    "\n",
    "# Import $chipname chip-seq peaks - mm10\n",
    "chipfile = '/data2/josh/chipseq/Esrrb/esrrb_mm10.bed'\n",
    "chipname = 'Esrrb'\n",
    "chip = pd.read_csv(chipfile, delimiter='\\t', header=None)\n",
    "chip.columns = ['chr', 'start', 'end', 'id', 'strength']\n",
    "\n",
    "# Label promoters as ChIP-seq overlapping or not (new column)\n",
    "promoters_chip_list = []\n",
    "counter = 0\n",
    "for idx, row in ep_long.iterrows():\n",
    "    chrom = row.p_chr\n",
    "    p_start = row.p_start\n",
    "    p_end = row.p_end\n",
    "    chip_matches = chip[(chip['chr'] == chrom) & ((chip['start'] < p_start) & (chip['end'] > p_start) |\n",
    "                                                  (chip['start'] < p_end) & (chip['end'] > p_end))]\n",
    "    if chip_matches.empty:\n",
    "        promoters_chip_list.append(False)\n",
    "    else:\n",
    "        promoters_chip_list.append(True)\n",
    "    if counter % 1000 == 0:\n",
    "        print(float(counter)/39277)\n",
    "    counter += 1\n",
    "\n",
    "ep_long['p_chip'] = ''\n",
    "ep_long['p_chip'] = promoters_chip_list"
   ]
  },
  {
   "cell_type": "code",
   "execution_count": 518,
   "metadata": {},
   "outputs": [
    {
     "data": {
      "text/plain": [
       "42"
      ]
     },
     "execution_count": 518,
     "metadata": {},
     "output_type": "execute_result"
    }
   ],
   "source": [
    "ep_long[ep_long['p_chip']==True].shape[0]"
   ]
  },
  {
   "cell_type": "code",
   "execution_count": 519,
   "metadata": {},
   "outputs": [
    {
     "name": "stdout",
     "output_type": "stream",
     "text": [
      "0.0\n"
     ]
    }
   ],
   "source": [
    "# Label enhancers as ChIP-seq overlapping or not (new column)\n",
    "enhancers_chip_list = []\n",
    "counter = 0\n",
    "for idx, row in ep_long.iterrows():\n",
    "    chrom = row.e_chr\n",
    "    e_start = row.e_start\n",
    "    e_end = row.e_end\n",
    "    \n",
    "    chip_matches = chip[(chip['chr'] == chrom) & ((chip['start'] < e_start) & (chip['end'] > e_start) |\n",
    "                                                  (chip['start'] < e_end) & (chip['end'] > e_end))]\n",
    "    if chip_matches.empty:\n",
    "        enhancers_chip_list.append(False)\n",
    "    else:\n",
    "        enhancers_chip_list.append(True)\n",
    "    if counter % 1000 == 0:\n",
    "        print(float(counter)/39277)\n",
    "    counter += 1\n",
    "\n",
    "ep_long['e_chip'] = ''\n",
    "ep_long['e_chip'] = enhancers_chip_list"
   ]
  },
  {
   "cell_type": "code",
   "execution_count": 520,
   "metadata": {},
   "outputs": [
    {
     "data": {
      "text/plain": [
       "71"
      ]
     },
     "execution_count": 520,
     "metadata": {},
     "output_type": "execute_result"
    }
   ],
   "source": [
    "ep_long[ep_long['e_chip']==True].shape[0]"
   ]
  },
  {
   "cell_type": "code",
   "execution_count": 521,
   "metadata": {},
   "outputs": [
    {
     "data": {
      "text/html": [
       "<div>\n",
       "<style scoped>\n",
       "    .dataframe tbody tr th:only-of-type {\n",
       "        vertical-align: middle;\n",
       "    }\n",
       "\n",
       "    .dataframe tbody tr th {\n",
       "        vertical-align: top;\n",
       "    }\n",
       "\n",
       "    .dataframe thead th {\n",
       "        text-align: right;\n",
       "    }\n",
       "</style>\n",
       "<table border=\"1\" class=\"dataframe\">\n",
       "  <thead>\n",
       "    <tr style=\"text-align: right;\">\n",
       "      <th></th>\n",
       "      <th>length</th>\n",
       "    </tr>\n",
       "    <tr>\n",
       "      <th>chrom</th>\n",
       "      <th></th>\n",
       "    </tr>\n",
       "  </thead>\n",
       "  <tbody>\n",
       "    <tr>\n",
       "      <th>1</th>\n",
       "      <td>195471971</td>\n",
       "    </tr>\n",
       "    <tr>\n",
       "      <th>2</th>\n",
       "      <td>182113224</td>\n",
       "    </tr>\n",
       "    <tr>\n",
       "      <th>3</th>\n",
       "      <td>160039680</td>\n",
       "    </tr>\n",
       "    <tr>\n",
       "      <th>4</th>\n",
       "      <td>156508116</td>\n",
       "    </tr>\n",
       "    <tr>\n",
       "      <th>5</th>\n",
       "      <td>151834684</td>\n",
       "    </tr>\n",
       "  </tbody>\n",
       "</table>\n",
       "</div>"
      ],
      "text/plain": [
       "          length\n",
       "chrom           \n",
       "1      195471971\n",
       "2      182113224\n",
       "3      160039680\n",
       "4      156508116\n",
       "5      151834684"
      ]
     },
     "execution_count": 521,
     "metadata": {},
     "output_type": "execute_result"
    }
   ],
   "source": [
    "# Import and define chromosomes df - mm10\n",
    "c = cooler.Cooler('/data2/josh/stan/merge_res200.cool')\n",
    "chrs = c.chroms()[:]\n",
    "chrs['name'] = chrs['name'].str.replace('chr', '')\n",
    "chrs = chrs.set_index('name')\n",
    "chrs.index.names = ['chrom']\n",
    "chrs.head()"
   ]
  },
  {
   "cell_type": "code",
   "execution_count": 522,
   "metadata": {
    "scrolled": true
   },
   "outputs": [
    {
     "data": {
      "text/html": [
       "<div>\n",
       "<style scoped>\n",
       "    .dataframe tbody tr th:only-of-type {\n",
       "        vertical-align: middle;\n",
       "    }\n",
       "\n",
       "    .dataframe tbody tr th {\n",
       "        vertical-align: top;\n",
       "    }\n",
       "\n",
       "    .dataframe thead th {\n",
       "        text-align: right;\n",
       "    }\n",
       "</style>\n",
       "<table border=\"1\" class=\"dataframe\">\n",
       "  <thead>\n",
       "    <tr style=\"text-align: right;\">\n",
       "      <th></th>\n",
       "      <th>size</th>\n",
       "      <th>length</th>\n",
       "      <th>ratio</th>\n",
       "    </tr>\n",
       "    <tr>\n",
       "      <th>chrom</th>\n",
       "      <th></th>\n",
       "      <th></th>\n",
       "      <th></th>\n",
       "    </tr>\n",
       "  </thead>\n",
       "  <tbody>\n",
       "    <tr>\n",
       "      <th>X</th>\n",
       "      <td>6105000</td>\n",
       "      <td>171031299</td>\n",
       "      <td>0.035695</td>\n",
       "    </tr>\n",
       "    <tr>\n",
       "      <th>3</th>\n",
       "      <td>40445000</td>\n",
       "      <td>160039680</td>\n",
       "      <td>0.252719</td>\n",
       "    </tr>\n",
       "    <tr>\n",
       "      <th>16</th>\n",
       "      <td>27625000</td>\n",
       "      <td>98207768</td>\n",
       "      <td>0.281291</td>\n",
       "    </tr>\n",
       "    <tr>\n",
       "      <th>14</th>\n",
       "      <td>35365000</td>\n",
       "      <td>124902244</td>\n",
       "      <td>0.283141</td>\n",
       "    </tr>\n",
       "    <tr>\n",
       "      <th>12</th>\n",
       "      <td>34735000</td>\n",
       "      <td>120129022</td>\n",
       "      <td>0.289147</td>\n",
       "    </tr>\n",
       "    <tr>\n",
       "      <th>10</th>\n",
       "      <td>44470000</td>\n",
       "      <td>130694993</td>\n",
       "      <td>0.340258</td>\n",
       "    </tr>\n",
       "    <tr>\n",
       "      <th>6</th>\n",
       "      <td>51010000</td>\n",
       "      <td>149736546</td>\n",
       "      <td>0.340665</td>\n",
       "    </tr>\n",
       "    <tr>\n",
       "      <th>13</th>\n",
       "      <td>41595000</td>\n",
       "      <td>120421639</td>\n",
       "      <td>0.345411</td>\n",
       "    </tr>\n",
       "    <tr>\n",
       "      <th>18</th>\n",
       "      <td>33800000</td>\n",
       "      <td>90702639</td>\n",
       "      <td>0.372646</td>\n",
       "    </tr>\n",
       "    <tr>\n",
       "      <th>17</th>\n",
       "      <td>35925000</td>\n",
       "      <td>94987271</td>\n",
       "      <td>0.378209</td>\n",
       "    </tr>\n",
       "    <tr>\n",
       "      <th>15</th>\n",
       "      <td>40550000</td>\n",
       "      <td>104043685</td>\n",
       "      <td>0.389740</td>\n",
       "    </tr>\n",
       "    <tr>\n",
       "      <th>7</th>\n",
       "      <td>57855000</td>\n",
       "      <td>145441459</td>\n",
       "      <td>0.397789</td>\n",
       "    </tr>\n",
       "    <tr>\n",
       "      <th>8</th>\n",
       "      <td>52650000</td>\n",
       "      <td>129401213</td>\n",
       "      <td>0.406874</td>\n",
       "    </tr>\n",
       "    <tr>\n",
       "      <th>19</th>\n",
       "      <td>25110000</td>\n",
       "      <td>61431566</td>\n",
       "      <td>0.408748</td>\n",
       "    </tr>\n",
       "    <tr>\n",
       "      <th>4</th>\n",
       "      <td>64140000</td>\n",
       "      <td>156508116</td>\n",
       "      <td>0.409819</td>\n",
       "    </tr>\n",
       "    <tr>\n",
       "      <th>1</th>\n",
       "      <td>84125000</td>\n",
       "      <td>195471971</td>\n",
       "      <td>0.430369</td>\n",
       "    </tr>\n",
       "    <tr>\n",
       "      <th>5</th>\n",
       "      <td>67230000</td>\n",
       "      <td>151834684</td>\n",
       "      <td>0.442784</td>\n",
       "    </tr>\n",
       "    <tr>\n",
       "      <th>9</th>\n",
       "      <td>55755000</td>\n",
       "      <td>124595110</td>\n",
       "      <td>0.447489</td>\n",
       "    </tr>\n",
       "    <tr>\n",
       "      <th>2</th>\n",
       "      <td>82250000</td>\n",
       "      <td>182113224</td>\n",
       "      <td>0.451642</td>\n",
       "    </tr>\n",
       "    <tr>\n",
       "      <th>11</th>\n",
       "      <td>81705000</td>\n",
       "      <td>122082543</td>\n",
       "      <td>0.669260</td>\n",
       "    </tr>\n",
       "  </tbody>\n",
       "</table>\n",
       "</div>"
      ],
      "text/plain": [
       "           size     length     ratio\n",
       "chrom                               \n",
       "X       6105000  171031299  0.035695\n",
       "3      40445000  160039680  0.252719\n",
       "16     27625000   98207768  0.281291\n",
       "14     35365000  124902244  0.283141\n",
       "12     34735000  120129022  0.289147\n",
       "10     44470000  130694993  0.340258\n",
       "6      51010000  149736546  0.340665\n",
       "13     41595000  120421639  0.345411\n",
       "18     33800000   90702639  0.372646\n",
       "17     35925000   94987271  0.378209\n",
       "15     40550000  104043685  0.389740\n",
       "7      57855000  145441459  0.397789\n",
       "8      52650000  129401213  0.406874\n",
       "19     25110000   61431566  0.408748\n",
       "4      64140000  156508116  0.409819\n",
       "1      84125000  195471971  0.430369\n",
       "5      67230000  151834684  0.442784\n",
       "9      55755000  124595110  0.447489\n",
       "2      82250000  182113224  0.451642\n",
       "11     81705000  122082543  0.669260"
      ]
     },
     "execution_count": 522,
     "metadata": {},
     "output_type": "execute_result"
    }
   ],
   "source": [
    "# Import TAD list\n",
    "tads = pd.read_csv('/data2/josh/tads/TAD_mm10.csv', delimiter='\\t')\n",
    "tads['chrom'] = tads['chrom'].str.replace('chr','')\n",
    "tads['size'] = tads['end'] - tads['start']\n",
    "chr_coverage = tads.groupby('chrom').sum()['size'].to_frame()\n",
    "chr_coverage = chr_coverage.join(chrs)\n",
    "chr_coverage['ratio'] = chr_coverage['size']/chr_coverage['length']\n",
    "chr_coverage.sort_values('ratio')"
   ]
  },
  {
   "cell_type": "code",
   "execution_count": 541,
   "metadata": {},
   "outputs": [
    {
     "data": {
      "text/plain": [
       "4448"
      ]
     },
     "execution_count": 541,
     "metadata": {},
     "output_type": "execute_result"
    }
   ],
   "source": [
    "len(tads)"
   ]
  },
  {
   "cell_type": "code",
   "execution_count": 523,
   "metadata": {},
   "outputs": [],
   "source": [
    "# Add TAD label for promoters\n",
    "\n",
    "promoters_tad_list = []\n",
    "for idx, row in ep_long.iterrows():\n",
    "    chrom = row.p_chr[3:]\n",
    "    pos = row.p_center\n",
    "    tad_matches = tads[(tads['chrom'] == chrom) & (tads['start'] < pos) & (tads['end'] > pos)]\n",
    "    if tad_matches.empty:\n",
    "        promoters_tad_list.append(-1)\n",
    "    else:\n",
    "        promoters_tad_list.append(tad_matches.index[0])\n",
    "\n",
    "ep_long['p_tad'] = ''\n",
    "ep_long['p_tad'] = promoters_tad_list"
   ]
  },
  {
   "cell_type": "code",
   "execution_count": 524,
   "metadata": {},
   "outputs": [
    {
     "data": {
      "text/plain": [
       "914"
      ]
     },
     "execution_count": 524,
     "metadata": {},
     "output_type": "execute_result"
    }
   ],
   "source": [
    "ep_long.shape[0]"
   ]
  },
  {
   "cell_type": "code",
   "execution_count": 525,
   "metadata": {},
   "outputs": [
    {
     "name": "stdout",
     "output_type": "stream",
     "text": [
      "0.0\n"
     ]
    }
   ],
   "source": [
    "# Label EPIs as Inter or Intra\n",
    "# pix1_tad_list1 = [None] * pix1.shape[0]\n",
    "ep_long['tad_status'] = ''\n",
    "tad_list = []\n",
    "counter = 0\n",
    "\n",
    "for idx, row in ep_long.iterrows():\n",
    "    p_chr = row['p_chr'][3:]\n",
    "    e_chr = row['e_chr'][3:]\n",
    "    p_start = row['p_start']\n",
    "    p_end = row['p_end']\n",
    "    e_start = row['e_start']\n",
    "    e_end = row['e_end']\n",
    "    \n",
    "    p_tad_matches = tads[((tads['chrom'] == p_chr) & (tads['start'] < p_start) & (tads['end'] > p_end))]\n",
    "    e_tad_matches = tads[((tads['chrom'] == e_chr) &(tads['start'] < e_start) & (tads['end'] > e_end))]\n",
    "    if p_tad_matches.empty and e_tad_matches.empty:\n",
    "        tad_list.append('TAD-less')\n",
    "    elif (p_tad_matches.empty and not e_tad_matches.empty) or (e_tad_matches.empty and not p_tad_matches.empty):\n",
    "        tad_list.append('Inter')\n",
    "    elif p_tad_matches.index[0] == e_tad_matches.index[0]:\n",
    "        tad_list.append('Intra')\n",
    "    else:\n",
    "        tad_list.append('Inter')\n",
    "    \n",
    "    if counter % 1000 == 0:\n",
    "        print(float(counter)/39277)\n",
    "    counter += 1\n",
    "        \n",
    "ep_long['tad_status'] = tad_list"
   ]
  },
  {
   "cell_type": "code",
   "execution_count": 526,
   "metadata": {},
   "outputs": [],
   "source": [
    "# Save TAD- and ChIP-labeled E-P labels to bed file\n",
    "# ep_long.to_csv('annotated_focs_narrowed11_25.bed',sep='\\t',index=True, header=True)"
   ]
  },
  {
   "cell_type": "code",
   "execution_count": 527,
   "metadata": {},
   "outputs": [],
   "source": [
    "# Save TAD- and ChIP-labeled E-P labels to bed file\n",
    "# ep_long=pd.read_csv('annotated_focs_narrowed11_25.bed',sep='\\t')"
   ]
  },
  {
   "cell_type": "code",
   "execution_count": 528,
   "metadata": {
    "scrolled": true
   },
   "outputs": [],
   "source": [
    "# define helper function ep_status\n",
    "def ep_status(e_chip, p_chip):\n",
    "    if ((e_chip == True) and (p_chip == True)):\n",
    "        return 'EP'\n",
    "    elif ((e_chip == False) and (p_chip == True)):\n",
    "        return 'P'\n",
    "    elif ((e_chip == True) and (p_chip == False)):\n",
    "        return 'E'\n",
    "    else:\n",
    "        return 'N'\n",
    "\n",
    "# Create list for EP_status the put it into the df \n",
    "ep_status_list = [ep_status(row['e_chip'], row['p_chip']) for idx, row in ep_long.iterrows()]\n",
    "ep_long['ep_status'] = ep_status_list"
   ]
  },
  {
   "cell_type": "code",
   "execution_count": 529,
   "metadata": {},
   "outputs": [],
   "source": [
    "intra_ep = ep_long[ep_long['tad_status']=='Intra']\n",
    "inter_ep = ep_long[ep_long['tad_status']=='Inter']"
   ]
  },
  {
   "cell_type": "code",
   "execution_count": 530,
   "metadata": {},
   "outputs": [],
   "source": [
    "ep = ep_long"
   ]
  },
  {
   "cell_type": "code",
   "execution_count": 531,
   "metadata": {},
   "outputs": [
    {
     "data": {
      "text/plain": [
       "N     808\n",
       "E      64\n",
       "P      35\n",
       "EP      7\n",
       "Name: ep_status, dtype: int64"
      ]
     },
     "execution_count": 531,
     "metadata": {},
     "output_type": "execute_result"
    }
   ],
   "source": [
    "ep['ep_status'].value_counts()"
   ]
  },
  {
   "cell_type": "code",
   "execution_count": 532,
   "metadata": {},
   "outputs": [
    {
     "data": {
      "text/html": [
       "<div>\n",
       "<style scoped>\n",
       "    .dataframe tbody tr th:only-of-type {\n",
       "        vertical-align: middle;\n",
       "    }\n",
       "\n",
       "    .dataframe tbody tr th {\n",
       "        vertical-align: top;\n",
       "    }\n",
       "\n",
       "    .dataframe thead th {\n",
       "        text-align: right;\n",
       "    }\n",
       "</style>\n",
       "<table border=\"1\" class=\"dataframe\">\n",
       "  <thead>\n",
       "    <tr style=\"text-align: right;\">\n",
       "      <th></th>\n",
       "      <th>Unnamed: 0</th>\n",
       "      <th>Unnamed: 0.1</th>\n",
       "      <th>p_chr</th>\n",
       "      <th>p_start</th>\n",
       "      <th>p_end</th>\n",
       "      <th>p_dir</th>\n",
       "      <th>contact_id</th>\n",
       "      <th>e_chr</th>\n",
       "      <th>e_start</th>\n",
       "      <th>e_end</th>\n",
       "      <th>p_center</th>\n",
       "      <th>e_center</th>\n",
       "      <th>distance</th>\n",
       "      <th>ep_status</th>\n",
       "      <th>tad_status</th>\n",
       "      <th>p_chip</th>\n",
       "      <th>e_chip</th>\n",
       "      <th>p_tad</th>\n",
       "    </tr>\n",
       "  </thead>\n",
       "  <tbody>\n",
       "    <tr>\n",
       "      <th>0</th>\n",
       "      <td>0</td>\n",
       "      <td>89</td>\n",
       "      <td>chr1</td>\n",
       "      <td>36761793</td>\n",
       "      <td>36761843</td>\n",
       "      <td>+</td>\n",
       "      <td>EP00090</td>\n",
       "      <td>chr1</td>\n",
       "      <td>36768697</td>\n",
       "      <td>36769149</td>\n",
       "      <td>36761818.0</td>\n",
       "      <td>36768923.0</td>\n",
       "      <td>7105.0</td>\n",
       "      <td>N</td>\n",
       "      <td>TAD-less</td>\n",
       "      <td>False</td>\n",
       "      <td>False</td>\n",
       "      <td>-1</td>\n",
       "    </tr>\n",
       "    <tr>\n",
       "      <th>1</th>\n",
       "      <td>1</td>\n",
       "      <td>97</td>\n",
       "      <td>chr1</td>\n",
       "      <td>36761847</td>\n",
       "      <td>36761897</td>\n",
       "      <td>+</td>\n",
       "      <td>EP00098</td>\n",
       "      <td>chr1</td>\n",
       "      <td>36772356</td>\n",
       "      <td>36772792</td>\n",
       "      <td>36761872.0</td>\n",
       "      <td>36772574.0</td>\n",
       "      <td>10702.0</td>\n",
       "      <td>N</td>\n",
       "      <td>TAD-less</td>\n",
       "      <td>False</td>\n",
       "      <td>False</td>\n",
       "      <td>-1</td>\n",
       "    </tr>\n",
       "    <tr>\n",
       "      <th>2</th>\n",
       "      <td>2</td>\n",
       "      <td>98</td>\n",
       "      <td>chr1</td>\n",
       "      <td>36761847</td>\n",
       "      <td>36761897</td>\n",
       "      <td>+</td>\n",
       "      <td>EP00099</td>\n",
       "      <td>chr1</td>\n",
       "      <td>36781817</td>\n",
       "      <td>36782116</td>\n",
       "      <td>36761872.0</td>\n",
       "      <td>36781966.5</td>\n",
       "      <td>20094.5</td>\n",
       "      <td>N</td>\n",
       "      <td>Inter</td>\n",
       "      <td>False</td>\n",
       "      <td>False</td>\n",
       "      <td>-1</td>\n",
       "    </tr>\n",
       "    <tr>\n",
       "      <th>3</th>\n",
       "      <td>3</td>\n",
       "      <td>159</td>\n",
       "      <td>chr1</td>\n",
       "      <td>40429136</td>\n",
       "      <td>40429177</td>\n",
       "      <td>+</td>\n",
       "      <td>EP00160</td>\n",
       "      <td>chr1</td>\n",
       "      <td>40437105</td>\n",
       "      <td>40437287</td>\n",
       "      <td>40429156.5</td>\n",
       "      <td>40437196.0</td>\n",
       "      <td>8039.5</td>\n",
       "      <td>N</td>\n",
       "      <td>TAD-less</td>\n",
       "      <td>False</td>\n",
       "      <td>False</td>\n",
       "      <td>-1</td>\n",
       "    </tr>\n",
       "    <tr>\n",
       "      <th>4</th>\n",
       "      <td>4</td>\n",
       "      <td>189</td>\n",
       "      <td>chr1</td>\n",
       "      <td>42694813</td>\n",
       "      <td>42694877</td>\n",
       "      <td>-</td>\n",
       "      <td>EP00190</td>\n",
       "      <td>chr1</td>\n",
       "      <td>42684190</td>\n",
       "      <td>42684633</td>\n",
       "      <td>42694845.0</td>\n",
       "      <td>42684411.5</td>\n",
       "      <td>10433.5</td>\n",
       "      <td>N</td>\n",
       "      <td>TAD-less</td>\n",
       "      <td>False</td>\n",
       "      <td>False</td>\n",
       "      <td>-1</td>\n",
       "    </tr>\n",
       "  </tbody>\n",
       "</table>\n",
       "</div>"
      ],
      "text/plain": [
       "   Unnamed: 0  Unnamed: 0.1 p_chr   p_start     p_end p_dir contact_id e_chr  \\\n",
       "0           0            89  chr1  36761793  36761843     +    EP00090  chr1   \n",
       "1           1            97  chr1  36761847  36761897     +    EP00098  chr1   \n",
       "2           2            98  chr1  36761847  36761897     +    EP00099  chr1   \n",
       "3           3           159  chr1  40429136  40429177     +    EP00160  chr1   \n",
       "4           4           189  chr1  42694813  42694877     -    EP00190  chr1   \n",
       "\n",
       "    e_start     e_end    p_center    e_center  distance ep_status tad_status  \\\n",
       "0  36768697  36769149  36761818.0  36768923.0    7105.0         N   TAD-less   \n",
       "1  36772356  36772792  36761872.0  36772574.0   10702.0         N   TAD-less   \n",
       "2  36781817  36782116  36761872.0  36781966.5   20094.5         N      Inter   \n",
       "3  40437105  40437287  40429156.5  40437196.0    8039.5         N   TAD-less   \n",
       "4  42684190  42684633  42694845.0  42684411.5   10433.5         N   TAD-less   \n",
       "\n",
       "   p_chip  e_chip  p_tad  \n",
       "0   False   False     -1  \n",
       "1   False   False     -1  \n",
       "2   False   False     -1  \n",
       "3   False   False     -1  \n",
       "4   False   False     -1  "
      ]
     },
     "execution_count": 532,
     "metadata": {},
     "output_type": "execute_result"
    }
   ],
   "source": [
    "ep.head()"
   ]
  },
  {
   "cell_type": "code",
   "execution_count": 533,
   "metadata": {},
   "outputs": [],
   "source": [
    "# Calculate frequencies for each group\n",
    "prob_E = float(ep['ep_status'].value_counts()['E'] + ep['ep_status'].value_counts()['EP'])/len(ep['ep_status'])\n",
    "prob_P = float(ep['ep_status'].value_counts()['P'] + ep['ep_status'].value_counts()['EP'])/len(ep['ep_status'])\n",
    "prob_N = float(ep['ep_status'].value_counts()['N'])/len(ep['ep_status'])\n",
    "prob_EP = float(ep['ep_status'].value_counts()['EP'])/len(ep['ep_status'])\n",
    "\n",
    "prob_E_intra = float(intra_ep['ep_status'].value_counts()['E'])/len(intra_ep['ep_status'])\n",
    "prob_P_intra = float(intra_ep['ep_status'].value_counts()['P'])/len(intra_ep['ep_status'])\n",
    "prob_N_intra = float(intra_ep['ep_status'].value_counts()['N'])/len(intra_ep['ep_status'])\n",
    "prob_EP_intra = float(intra_ep['ep_status'].value_counts()['EP'])/len(intra_ep['ep_status'])\n",
    "\n",
    "prob_E_inter = float(inter_ep['ep_status'].value_counts()['E'])/len(inter_ep['ep_status'])\n",
    "prob_P_inter = float(inter_ep['ep_status'].value_counts()['P'])/len(inter_ep['ep_status'])\n",
    "prob_N_inter = float(inter_ep['ep_status'].value_counts()['N'] )/len(inter_ep['ep_status'])\n",
    "prob_EP_inter = float(inter_ep['ep_status'].value_counts()['EP'])/len(inter_ep['ep_status'])"
   ]
  },
  {
   "cell_type": "code",
   "execution_count": 534,
   "metadata": {},
   "outputs": [
    {
     "data": {
      "text/plain": [
       "0.06474820143884892"
      ]
     },
     "execution_count": 534,
     "metadata": {},
     "output_type": "execute_result"
    }
   ],
   "source": [
    "prob_P_inter + prob_EP_inter"
   ]
  },
  {
   "cell_type": "code",
   "execution_count": 535,
   "metadata": {},
   "outputs": [
    {
     "data": {
      "text/plain": [
       "0.07768052516411379"
      ]
     },
     "execution_count": 535,
     "metadata": {},
     "output_type": "execute_result"
    }
   ],
   "source": [
    "prob_E"
   ]
  },
  {
   "cell_type": "code",
   "execution_count": 536,
   "metadata": {},
   "outputs": [
    {
     "name": "stdout",
     "output_type": "stream",
     "text": [
      "mean: 0.04589820143884892\n",
      "stdev: 0.017784318143190894\n",
      "mean: 0.07775669064748202\n",
      "stdev: 0.02273172411813392\n"
     ]
    }
   ],
   "source": [
    "# Generate inter error bars\n",
    "plot_ci_inter = []\n",
    "for prob in [prob_P, prob_E]:\n",
    "    randoms_per_sim = len(inter_ep['ep_status'])\n",
    "    num_sims = 100000 # does not affect stdev\n",
    "\n",
    "    random_nums = uniform(0,1,(randoms_per_sim,num_sims))\n",
    "    sims = sum(random_nums < prob)/float(randoms_per_sim) # Have 1000 statistics (converting numbers into %'s')\n",
    "    # stdev of SIMS is stdev to use for plots -- stdev of null hypothesis\n",
    "    # print(sims)\n",
    "    print('mean: ' + str(np.mean(sims)))\n",
    "    stdev = np.std(sims)\n",
    "    \n",
    "    print('stdev: ' + str(stdev))\n",
    "    \n",
    "    plot_ci_inter.append(1.96*stdev)\n",
    "\n",
    "    # calculating p-vaue\n",
    "    # pval = float(sum(prob_P_inter < sims))/num_sims\n",
    "    # if (pval < 0.05) or (pval > 0.95):\n",
    "    #     print('P-value = ' + str(pval) + ': significant!!!!')"
   ]
  },
  {
   "cell_type": "code",
   "execution_count": 537,
   "metadata": {},
   "outputs": [
    {
     "name": "stdout",
     "output_type": "stream",
     "text": [
      "mean: 0.04574031007751938\n",
      "stdev: 0.009392248669834987\n",
      "mean: 0.07758527131782945\n",
      "stdev: 0.011957355546338781\n"
     ]
    }
   ],
   "source": [
    "# Generate intra error bars\n",
    "plot_ci_intra = []\n",
    "for prob in [prob_P, prob_E]:\n",
    "    randoms_per_sim = len(intra_ep['ep_status'])\n",
    "    num_sims = 1000 # does not affect value\n",
    "\n",
    "    random_nums = uniform(0,1,(randoms_per_sim,num_sims))\n",
    "    sims = sum(random_nums < prob)/float(randoms_per_sim) # Have 1000 statistics (converting numbers into %'s')\n",
    "    # stdev of SIMS is stdev to use for plots -- stdev of null hypothesis\n",
    "    # print(sims)\n",
    "    print('mean: ' + str(np.mean(sims)))\n",
    "    stdev = np.std(sims)\n",
    "    \n",
    "    print('stdev: ' + str(stdev))\n",
    "    \n",
    "    plot_ci_intra.append(1.96*stdev)\n",
    "\n",
    "    # calculating p-vaue\n",
    "    # pval = float(sum(prob_E_intra < sims))/num_sims\n",
    "    # if (pval < 0.05) or (pval > 0.95):\n",
    "    #     print('P-value = ' + str(pval) + ': significant!!!!')"
   ]
  },
  {
   "cell_type": "code",
   "execution_count": 538,
   "metadata": {},
   "outputs": [
    {
     "data": {
      "text/plain": [
       "<matplotlib.text.Text at 0x7ff62cc2af50>"
      ]
     },
     "execution_count": 538,
     "metadata": {},
     "output_type": "execute_result"
    },
    {
     "data": {
      "image/png": "[encoded data removed]",
      "text/plain": [
       "<matplotlib.figure.Figure at 0x7ff62c681450>"
      ]
     },
     "metadata": {},
     "output_type": "display_data"
    }
   ],
   "source": [
    "plt.figure(figsize=[10,8])\n",
    "plt.subplot(221)\n",
    "\n",
    "ax1 = sns.countplot(x=\"ep_status\", data=intra_ep, order=['P','E','EP','N']) # yerr=plot_ci\n",
    "plt.xlabel('Type of Interaction')\n",
    "plt.ylabel('Number of contacts')\n",
    "plt.title('Intra-TAD EPIs')\n",
    "\n",
    "plt.subplot(222)\n",
    "ax2 = sns.countplot(x=\"ep_status\", data=inter_ep, order=['P','E','EP','N'])\n",
    "plt.xlabel('Type of Interaction')\n",
    "plt.ylabel('Number of contacts')\n",
    "plt.title('Inter-TAD EPIs')\n",
    "\n",
    "plt.suptitle(chipname + ' Enrichment in Intra- and Inter-TAD EPIs',size=20)\n",
    "\n",
    "\n",
    "# Save figure\n",
    "# plt.savefig(chipname + '_sbs_narrowed.png')"
   ]
  },
  {
   "cell_type": "code",
   "execution_count": 539,
   "metadata": {},
   "outputs": [
    {
     "data": {
      "image/png": "[encoded data removed]",
      "text/plain": [
       "<matplotlib.figure.Figure at 0x7ff62c124910>"
      ]
     },
     "metadata": {},
     "output_type": "display_data"
    },
    {
     "data": {
      "text/plain": [
       "<matplotlib.figure.Figure at 0x7ff62c0a8250>"
      ]
     },
     "metadata": {},
     "output_type": "display_data"
    }
   ],
   "source": [
    "intra_means = (prob_P_intra*100, prob_E_intra*100)\n",
    "intra_std = (plot_ci_intra[0]*100, plot_ci_intra[1]*100)\n",
    "\n",
    "inter_means = (prob_P_inter*100, prob_E_inter*100)\n",
    "inter_std = (plot_ci_inter[0]*100, plot_ci_inter[1]*100)\n",
    "\n",
    "intra_EP_means = (prob_EP_intra*100, prob_EP_intra*100)\n",
    "inter_EP_means = (prob_EP_inter*100, prob_EP_inter*100)\n",
    "\n",
    "fig, ax = plt.subplots(figsize=[4,3])#figsize=[10,8])\n",
    "\n",
    "ind = np.arange(2)    # the x locations for the groups\n",
    "width = 0.35         # the width of the bars\n",
    "p1 = ax.bar(ind, intra_means, width, color='#eeb549', bottom=0, edgecolor='black',)\n",
    "p3 = ax.bar(ind, intra_EP_means, width, color='#eeb549', bottom=intra_means, yerr=intra_std, hatch=\"///\", edgecolor='black')\n",
    "\n",
    "p2 = ax.bar(ind + width+0.05, inter_means, width,  color='#6e70c5', bottom=0, edgecolor='black',)\n",
    "p4 = ax.bar(ind+width+0.05, inter_EP_means, width, color='#6e70c5', bottom=inter_means, yerr=inter_std, hatch=\"///\", edgecolor='black')\n",
    "\n",
    "plt.ylabel('Percent enriched (%)') #, fontsize=16)\n",
    "plt.ylim([0,104]) #, fontsize=16)\n",
    "\n",
    "ax.set_title('Frequency of P and E Enrichment for ' + chipname) #, fontsize=20) \n",
    "\n",
    "ax.set_xticks(ind + width / 2)\n",
    "ax.set_xticklabels(('Promoters', 'Enhancers')) #, fontsize=16)\n",
    "\n",
    "ax.legend((p1[0], p2[0]), ('In Intra-TAD EPI', 'In Inter-TAD EPI')) #, fontsize=16)\n",
    "\n",
    "plt.show()\n",
    "plt.savefig('figs/' + chipname + '_sbs_small.png')"
   ]
  },
  {
   "cell_type": "code",
   "execution_count": 540,
   "metadata": {},
   "outputs": [],
   "source": [
    "# Maybe generate table from above numbers"
   ]
  },
  {
   "cell_type": "code",
   "execution_count": null,
   "metadata": {},
   "outputs": [],
   "source": []
  }
 ],
 "metadata": {
  "kernelspec": {
   "display_name": "Python 2",
   "language": "python",
   "name": "python2"
  },
  "language_info": {
   "codemirror_mode": {
    "name": "ipython",
    "version": 2
   },
   "file_extension": ".py",
   "mimetype": "text/x-python",
   "name": "python",
   "nbconvert_exporter": "python",
   "pygments_lexer": "ipython2",
   "version": "2.7.6"
  }
 },
 "nbformat": 4,
 "nbformat_minor": 2
}
