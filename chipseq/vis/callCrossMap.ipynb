{
 "cells": [
  {
   "cell_type": "code",
   "execution_count": 5,
   "metadata": {},
   "outputs": [
    {
     "data": {
      "text/plain": [
       "0"
      ]
     },
     "execution_count": 5,
     "metadata": {},
     "output_type": "execute_result"
    }
   ],
   "source": [
    "from subprocess import call\n",
    "\n",
    "chainfile = '/data2/josh/genome/mm9ToMm10.over.chain.gz'\n",
    "bed_name_mm9 = '/data2/josh/chipseq/H3K4ME1_4/h3k4me1_4_mm9.bed'\n",
    " #bed_name_mm9 = '/data2/josh/ep/focs_promoters_mm9_cleaned.bed6'\n",
    "bed_name_mm10 = '/data2/josh/chipseq/H3K4ME1_4/h3k4me1_4_mm10.bed'\n",
    "\n",
    "call([\"CrossMap.py\", \"bed\", chainfile, bed_name_mm9, bed_name_mm10])"
   ]
  },
  {
   "cell_type": "code",
   "execution_count": null,
   "metadata": {},
   "outputs": [],
   "source": []
  }
 ],
 "metadata": {
  "kernelspec": {
   "display_name": "Python 2",
   "language": "python",
   "name": "python2"
  },
  "language_info": {
   "codemirror_mode": {
    "name": "ipython",
    "version": 2
   },
   "file_extension": ".py",
   "mimetype": "text/x-python",
   "name": "python",
   "nbconvert_exporter": "python",
   "pygments_lexer": "ipython2",
   "version": "2.7.6"
  }
 },
 "nbformat": 4,
 "nbformat_minor": 2
}
