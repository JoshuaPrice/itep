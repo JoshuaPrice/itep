{
 "cells": [
  {
   "cell_type": "code",
   "execution_count": 2,
   "metadata": {},
   "outputs": [],
   "source": [
    "import pandas as pd\n",
    "import cooler\n",
    "import matplotlib\n",
    "import matplotlib.pyplot as plt\n",
    "plt.style.use('fivethirtyeight')\n",
    "import numpy as np\n",
    "import seaborn as sns\n",
    "import pandas as pd\n",
    "%matplotlib inline"
   ]
  },
  {
   "cell_type": "code",
   "execution_count": 3,
   "metadata": {},
   "outputs": [
    {
     "data": {
      "text/html": [
       "<div>\n",
       "<style scoped>\n",
       "    .dataframe tbody tr th:only-of-type {\n",
       "        vertical-align: middle;\n",
       "    }\n",
       "\n",
       "    .dataframe tbody tr th {\n",
       "        vertical-align: top;\n",
       "    }\n",
       "\n",
       "    .dataframe thead th {\n",
       "        text-align: right;\n",
       "    }\n",
       "</style>\n",
       "<table border=\"1\" class=\"dataframe\">\n",
       "  <thead>\n",
       "    <tr style=\"text-align: right;\">\n",
       "      <th></th>\n",
       "      <th>name</th>\n",
       "      <th>length</th>\n",
       "    </tr>\n",
       "  </thead>\n",
       "  <tbody>\n",
       "    <tr>\n",
       "      <th>0</th>\n",
       "      <td>1</td>\n",
       "      <td>195471971</td>\n",
       "    </tr>\n",
       "    <tr>\n",
       "      <th>1</th>\n",
       "      <td>2</td>\n",
       "      <td>182113224</td>\n",
       "    </tr>\n",
       "    <tr>\n",
       "      <th>2</th>\n",
       "      <td>3</td>\n",
       "      <td>160039680</td>\n",
       "    </tr>\n",
       "    <tr>\n",
       "      <th>3</th>\n",
       "      <td>4</td>\n",
       "      <td>156508116</td>\n",
       "    </tr>\n",
       "    <tr>\n",
       "      <th>4</th>\n",
       "      <td>5</td>\n",
       "      <td>151834684</td>\n",
       "    </tr>\n",
       "  </tbody>\n",
       "</table>\n",
       "</div>"
      ],
      "text/plain": [
       "  name     length\n",
       "0    1  195471971\n",
       "1    2  182113224\n",
       "2    3  160039680\n",
       "3    4  156508116\n",
       "4    5  151834684"
      ]
     },
     "execution_count": 3,
     "metadata": {},
     "output_type": "execute_result"
    }
   ],
   "source": [
    "# Define chromosomes\n",
    "c = cooler.Cooler('/data2/josh/stan/merge_res200.cool')\n",
    "chrs = c.chroms()[:]\n",
    "chrs['name'] = chrs['name'].str.replace('chr', '')\n",
    "chrs.head()"
   ]
  },
  {
   "cell_type": "code",
   "execution_count": 4,
   "metadata": {},
   "outputs": [],
   "source": [
    "# H3K36ME3\n",
    "peaks = pd.read_csv('~/mlep/chipseq/macs14_peaks.bed', delimiter='\\t', header=None)"
   ]
  },
  {
   "cell_type": "code",
   "execution_count": 5,
   "metadata": {},
   "outputs": [
    {
     "data": {
      "text/html": [
       "<div>\n",
       "<style scoped>\n",
       "    .dataframe tbody tr th:only-of-type {\n",
       "        vertical-align: middle;\n",
       "    }\n",
       "\n",
       "    .dataframe tbody tr th {\n",
       "        vertical-align: top;\n",
       "    }\n",
       "\n",
       "    .dataframe thead th {\n",
       "        text-align: right;\n",
       "    }\n",
       "</style>\n",
       "<table border=\"1\" class=\"dataframe\">\n",
       "  <thead>\n",
       "    <tr style=\"text-align: right;\">\n",
       "      <th></th>\n",
       "      <th>chr</th>\n",
       "      <th>start</th>\n",
       "      <th>end</th>\n",
       "      <th>id</th>\n",
       "      <th>strength</th>\n",
       "    </tr>\n",
       "  </thead>\n",
       "  <tbody>\n",
       "    <tr>\n",
       "      <th>0</th>\n",
       "      <td>1</td>\n",
       "      <td>4176007</td>\n",
       "      <td>4176392</td>\n",
       "      <td>MACS_peak_1</td>\n",
       "      <td>51.04</td>\n",
       "    </tr>\n",
       "    <tr>\n",
       "      <th>1</th>\n",
       "      <td>1</td>\n",
       "      <td>4424728</td>\n",
       "      <td>4425019</td>\n",
       "      <td>MACS_peak_2</td>\n",
       "      <td>58.72</td>\n",
       "    </tr>\n",
       "    <tr>\n",
       "      <th>2</th>\n",
       "      <td>1</td>\n",
       "      <td>4770069</td>\n",
       "      <td>4770862</td>\n",
       "      <td>MACS_peak_3</td>\n",
       "      <td>178.45</td>\n",
       "    </tr>\n",
       "    <tr>\n",
       "      <th>3</th>\n",
       "      <td>1</td>\n",
       "      <td>4772649</td>\n",
       "      <td>4772973</td>\n",
       "      <td>MACS_peak_4</td>\n",
       "      <td>166.43</td>\n",
       "    </tr>\n",
       "    <tr>\n",
       "      <th>4</th>\n",
       "      <td>1</td>\n",
       "      <td>4773749</td>\n",
       "      <td>4776449</td>\n",
       "      <td>MACS_peak_5</td>\n",
       "      <td>636.48</td>\n",
       "    </tr>\n",
       "  </tbody>\n",
       "</table>\n",
       "</div>"
      ],
      "text/plain": [
       "  chr    start      end           id  strength\n",
       "0   1  4176007  4176392  MACS_peak_1     51.04\n",
       "1   1  4424728  4425019  MACS_peak_2     58.72\n",
       "2   1  4770069  4770862  MACS_peak_3    178.45\n",
       "3   1  4772649  4772973  MACS_peak_4    166.43\n",
       "4   1  4773749  4776449  MACS_peak_5    636.48"
      ]
     },
     "execution_count": 5,
     "metadata": {},
     "output_type": "execute_result"
    }
   ],
   "source": [
    "peaks.columns = ['chr', 'start', 'end', 'id', 'strength']\n",
    "peaks.head()"
   ]
  },
  {
   "cell_type": "code",
   "execution_count": 6,
   "metadata": {},
   "outputs": [],
   "source": [
    "peaks_sorted = peaks.sort_values('strength', ascending=False)"
   ]
  },
  {
   "cell_type": "code",
   "execution_count": 7,
   "metadata": {
    "scrolled": false
   },
   "outputs": [
    {
     "data": {
      "text/html": [
       "<div>\n",
       "<style scoped>\n",
       "    .dataframe tbody tr th:only-of-type {\n",
       "        vertical-align: middle;\n",
       "    }\n",
       "\n",
       "    .dataframe tbody tr th {\n",
       "        vertical-align: top;\n",
       "    }\n",
       "\n",
       "    .dataframe thead th {\n",
       "        text-align: right;\n",
       "    }\n",
       "</style>\n",
       "<table border=\"1\" class=\"dataframe\">\n",
       "  <thead>\n",
       "    <tr style=\"text-align: right;\">\n",
       "      <th></th>\n",
       "      <th>bin1_id</th>\n",
       "      <th>bin2_id</th>\n",
       "      <th>count</th>\n",
       "    </tr>\n",
       "  </thead>\n",
       "  <tbody>\n",
       "    <tr>\n",
       "      <th>0</th>\n",
       "      <td>15000</td>\n",
       "      <td>15002</td>\n",
       "      <td>1</td>\n",
       "    </tr>\n",
       "    <tr>\n",
       "      <th>1</th>\n",
       "      <td>15000</td>\n",
       "      <td>15003</td>\n",
       "      <td>2</td>\n",
       "    </tr>\n",
       "    <tr>\n",
       "      <th>2</th>\n",
       "      <td>15000</td>\n",
       "      <td>15006</td>\n",
       "      <td>1</td>\n",
       "    </tr>\n",
       "    <tr>\n",
       "      <th>3</th>\n",
       "      <td>15000</td>\n",
       "      <td>15007</td>\n",
       "      <td>1</td>\n",
       "    </tr>\n",
       "    <tr>\n",
       "      <th>4</th>\n",
       "      <td>15000</td>\n",
       "      <td>15045</td>\n",
       "      <td>1</td>\n",
       "    </tr>\n",
       "  </tbody>\n",
       "</table>\n",
       "</div>"
      ],
      "text/plain": [
       "   bin1_id  bin2_id  count\n",
       "0    15000    15002      1\n",
       "1    15000    15003      2\n",
       "2    15000    15006      1\n",
       "3    15000    15007      1\n",
       "4    15000    15045      1"
      ]
     },
     "execution_count": 7,
     "metadata": {},
     "output_type": "execute_result"
    }
   ],
   "source": [
    "# create df with bins\n",
    "bins = c.bins()[['chrom', 'start', 'end']]\n",
    "bins[:5]\n",
    "\n",
    "# create df with pixels\n",
    "pix = c.pixels()\n",
    "p = pix[:]\n",
    "p.head()\n",
    "# p.loc[0,'bin1_id']"
   ]
  },
  {
   "cell_type": "code",
   "execution_count": 8,
   "metadata": {},
   "outputs": [],
   "source": [
    "p_long = p[p['count'] >= 10]"
   ]
  },
  {
   "cell_type": "code",
   "execution_count": 9,
   "metadata": {},
   "outputs": [],
   "source": [
    "poi = p_long[(p_long['bin2_id'] - p_long['bin1_id']) >= 25]"
   ]
  },
  {
   "cell_type": "code",
   "execution_count": 10,
   "metadata": {},
   "outputs": [
    {
     "data": {
      "text/plain": [
       "18006"
      ]
     },
     "execution_count": 10,
     "metadata": {},
     "output_type": "execute_result"
    }
   ],
   "source": [
    "len(poi)"
   ]
  },
  {
   "cell_type": "code",
   "execution_count": 12,
   "metadata": {},
   "outputs": [],
   "source": [
    "poi.to_csv('/data2/josh/ep/all_strong_pixels.csv',sep=',',index=True, header=True)"
   ]
  },
  {
   "cell_type": "code",
   "execution_count": 25,
   "metadata": {},
   "outputs": [],
   "source": [
    "# pix_pos = c.pixels(join=True)[:] # strange how long this takes relative to pix instantiation\n",
    "# pix_pos.head()\n",
    "\n",
    "# Reformatting \n",
    "# pix_pos['chrom1'] = int(pix_pos['chrom1'][-1])"
   ]
  },
  {
   "cell_type": "code",
   "execution_count": 13,
   "metadata": {},
   "outputs": [
    {
     "ename": "AttributeError",
     "evalue": "'RangeSelector1D' object has no attribute 'multiply'",
     "output_type": "error",
     "traceback": [
      "\u001b[0;31m---------------------------------------------------------------------------\u001b[0m",
      "\u001b[0;31mAttributeError\u001b[0m                            Traceback (most recent call last)",
      "\u001b[0;32m<ipython-input-13-bd270df9a49e>\u001b[0m in \u001b[0;36m<module>\u001b[0;34m()\u001b[0m\n\u001b[1;32m      1\u001b[0m \u001b[0;31m# add position columns\u001b[0m\u001b[0;34m\u001b[0m\u001b[0;34m\u001b[0m\u001b[0m\n\u001b[0;32m----> 2\u001b[0;31m \u001b[0mpoi\u001b[0m\u001b[0;34m[\u001b[0m\u001b[0;34m'start1'\u001b[0m\u001b[0;34m]\u001b[0m \u001b[0;34m=\u001b[0m \u001b[0mpix\u001b[0m\u001b[0;34m[\u001b[0m\u001b[0;34m'bin1_id'\u001b[0m\u001b[0;34m]\u001b[0m\u001b[0;34m.\u001b[0m\u001b[0mmultiply\u001b[0m\u001b[0;34m(\u001b[0m\u001b[0;36m200\u001b[0m\u001b[0;34m)\u001b[0m\u001b[0;34m\u001b[0m\u001b[0m\n\u001b[0m",
      "\u001b[0;31mAttributeError\u001b[0m: 'RangeSelector1D' object has no attribute 'multiply'"
     ]
    }
   ],
   "source": [
    "# add position columns\n",
    "poi['start1'] = pix['bin1_id'].multiply(200)"
   ]
  },
  {
   "cell_type": "code",
   "execution_count": null,
   "metadata": {},
   "outputs": [],
   "source": [
    "def overlapping(left,right):\n",
    "    overlap_count =  min(left[1], right[1]) - max(left[0], right[0]) # +1 because bordering doesn't count as intersecting\n",
    "    print(overlap_count)\n",
    "    if overlap_count > 0:\n",
    "        return True\n",
    "    return False"
   ]
  },
  {
   "cell_type": "code",
   "execution_count": null,
   "metadata": {},
   "outputs": [],
   "source": [
    "pix_head = pix_pos.head()\n",
    "\n",
    "pix_pos['chip1'] = ''\n",
    "pix_pos['chip2'] = ''\n",
    "\n",
    "# pix_head[0,'chip1'] = overlapping((start1, end1), ()"
   ]
  },
  {
   "cell_type": "code",
   "execution_count": null,
   "metadata": {},
   "outputs": [],
   "source": [
    "# change into list comprehensions to speed up\n",
    "\n",
    "for idx, row in pix_pos.iterrows():\n",
    "    \n",
    "    # How currently written, chip peak must totally encapsulate 200 bp of contact\n",
    "    chip1 = peaks[(peaks['chr'] == row['chrom1'][-1]) \n",
    "                                       & (peaks['start'] < row['start1']) \n",
    "                                       & (peaks['end'] > row['end1'])]\n",
    "    chip2 = peaks[(peaks['chr'] == row['chrom1'][-1]) \n",
    "                                       & (peaks['start'] < row['start2']) \n",
    "                                       & (peaks['end'] > row['end2'])]\n",
    "    \n",
    "    if chip1.empty:\n",
    "        pix_pos.loc[idx, \"chip1\"] = False\n",
    "    else: \n",
    "        pix_pos.loc[idx, \"chip1\"] = True\n",
    "    if chip2.empty:\n",
    "        pix_pos.loc[idx, \"chip2\"] = False  \n",
    "    else: \n",
    "        pix_pos.loc[idx, \"chip2\"] = True\n",
    "        \n",
    "\n",
    "pix_pos.head()"
   ]
  },
  {
   "cell_type": "code",
   "execution_count": null,
   "metadata": {},
   "outputs": [],
   "source": [
    "# pix_pos[pix_pos['chip2'] == True]"
   ]
  }
 ],
 "metadata": {
  "kernelspec": {
   "display_name": "Python 3",
   "language": "python",
   "name": "python3"
  },
  "language_info": {
   "codemirror_mode": {
    "name": "ipython",
    "version": 3
   },
   "file_extension": ".py",
   "mimetype": "text/x-python",
   "name": "python",
   "nbconvert_exporter": "python",
   "pygments_lexer": "ipython3",
   "version": "3.4.3"
  }
 },
 "nbformat": 4,
 "nbformat_minor": 2
}
