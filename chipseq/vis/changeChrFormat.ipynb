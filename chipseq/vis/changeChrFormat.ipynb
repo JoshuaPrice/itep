{
 "cells": [
  {
   "cell_type": "code",
   "execution_count": 6,
   "metadata": {},
   "outputs": [
    {
     "data": {
      "text/html": [
       "<div>\n",
       "<style scoped>\n",
       "    .dataframe tbody tr th:only-of-type {\n",
       "        vertical-align: middle;\n",
       "    }\n",
       "\n",
       "    .dataframe tbody tr th {\n",
       "        vertical-align: top;\n",
       "    }\n",
       "\n",
       "    .dataframe thead th {\n",
       "        text-align: right;\n",
       "    }\n",
       "</style>\n",
       "<table border=\"1\" class=\"dataframe\">\n",
       "  <thead>\n",
       "    <tr style=\"text-align: right;\">\n",
       "      <th></th>\n",
       "      <th>chr</th>\n",
       "      <th>start</th>\n",
       "      <th>end</th>\n",
       "      <th>name</th>\n",
       "      <th>score</th>\n",
       "    </tr>\n",
       "  </thead>\n",
       "  <tbody>\n",
       "    <tr>\n",
       "      <th>0</th>\n",
       "      <td>1</td>\n",
       "      <td>4757308</td>\n",
       "      <td>4761283</td>\n",
       "      <td>MACS_peak_1</td>\n",
       "      <td>71.60</td>\n",
       "    </tr>\n",
       "    <tr>\n",
       "      <th>1</th>\n",
       "      <td>1</td>\n",
       "      <td>4766131</td>\n",
       "      <td>4771692</td>\n",
       "      <td>MACS_peak_2</td>\n",
       "      <td>77.89</td>\n",
       "    </tr>\n",
       "    <tr>\n",
       "      <th>2</th>\n",
       "      <td>1</td>\n",
       "      <td>7083400</td>\n",
       "      <td>7088397</td>\n",
       "      <td>MACS_peak_3</td>\n",
       "      <td>75.09</td>\n",
       "    </tr>\n",
       "    <tr>\n",
       "      <th>3</th>\n",
       "      <td>1</td>\n",
       "      <td>7162937</td>\n",
       "      <td>7168004</td>\n",
       "      <td>MACS_peak_4</td>\n",
       "      <td>111.72</td>\n",
       "    </tr>\n",
       "    <tr>\n",
       "      <th>4</th>\n",
       "      <td>1</td>\n",
       "      <td>7386728</td>\n",
       "      <td>7389090</td>\n",
       "      <td>MACS_peak_5</td>\n",
       "      <td>71.67</td>\n",
       "    </tr>\n",
       "  </tbody>\n",
       "</table>\n",
       "</div>"
      ],
      "text/plain": [
       "  chr    start      end         name   score\n",
       "0   1  4757308  4761283  MACS_peak_1   71.60\n",
       "1   1  4766131  4771692  MACS_peak_2   77.89\n",
       "2   1  7083400  7088397  MACS_peak_3   75.09\n",
       "3   1  7162937  7168004  MACS_peak_4  111.72\n",
       "4   1  7386728  7389090  MACS_peak_5   71.67"
      ]
     },
     "execution_count": 6,
     "metadata": {},
     "output_type": "execute_result"
    }
   ],
   "source": [
    "# Convert .bed file with 'chr1' to '1'\n",
    "\n",
    "import pandas as pd\n",
    "\n",
    "raw_p_mm9 = pd.read_csv('/data2/josh/chipseq/Rad21/macs14_peaks.bed',\n",
    "                        sep='\\t',\n",
    "                        header=None,\n",
    "                        names=['chr','start','end','name','score'])\n",
    "raw_p_mm9.head()"
   ]
  },
  {
   "cell_type": "code",
   "execution_count": 7,
   "metadata": {},
   "outputs": [],
   "source": [
    "# raw_p_mm9['chr'] = raw_p_mm9['chr'].astype(str).str[-2:]\n",
    "raw_p_mm9['chr'] = 'chr' + raw_p_mm9['chr'].astype(str)"
   ]
  },
  {
   "cell_type": "code",
   "execution_count": 8,
   "metadata": {},
   "outputs": [
    {
     "data": {
      "text/html": [
       "<div>\n",
       "<style scoped>\n",
       "    .dataframe tbody tr th:only-of-type {\n",
       "        vertical-align: middle;\n",
       "    }\n",
       "\n",
       "    .dataframe tbody tr th {\n",
       "        vertical-align: top;\n",
       "    }\n",
       "\n",
       "    .dataframe thead th {\n",
       "        text-align: right;\n",
       "    }\n",
       "</style>\n",
       "<table border=\"1\" class=\"dataframe\">\n",
       "  <thead>\n",
       "    <tr style=\"text-align: right;\">\n",
       "      <th></th>\n",
       "      <th>chr</th>\n",
       "      <th>start</th>\n",
       "      <th>end</th>\n",
       "      <th>name</th>\n",
       "      <th>score</th>\n",
       "    </tr>\n",
       "  </thead>\n",
       "  <tbody>\n",
       "    <tr>\n",
       "      <th>0</th>\n",
       "      <td>chr1</td>\n",
       "      <td>4757308</td>\n",
       "      <td>4761283</td>\n",
       "      <td>MACS_peak_1</td>\n",
       "      <td>71.60</td>\n",
       "    </tr>\n",
       "    <tr>\n",
       "      <th>1</th>\n",
       "      <td>chr1</td>\n",
       "      <td>4766131</td>\n",
       "      <td>4771692</td>\n",
       "      <td>MACS_peak_2</td>\n",
       "      <td>77.89</td>\n",
       "    </tr>\n",
       "    <tr>\n",
       "      <th>2</th>\n",
       "      <td>chr1</td>\n",
       "      <td>7083400</td>\n",
       "      <td>7088397</td>\n",
       "      <td>MACS_peak_3</td>\n",
       "      <td>75.09</td>\n",
       "    </tr>\n",
       "    <tr>\n",
       "      <th>3</th>\n",
       "      <td>chr1</td>\n",
       "      <td>7162937</td>\n",
       "      <td>7168004</td>\n",
       "      <td>MACS_peak_4</td>\n",
       "      <td>111.72</td>\n",
       "    </tr>\n",
       "    <tr>\n",
       "      <th>4</th>\n",
       "      <td>chr1</td>\n",
       "      <td>7386728</td>\n",
       "      <td>7389090</td>\n",
       "      <td>MACS_peak_5</td>\n",
       "      <td>71.67</td>\n",
       "    </tr>\n",
       "  </tbody>\n",
       "</table>\n",
       "</div>"
      ],
      "text/plain": [
       "    chr    start      end         name   score\n",
       "0  chr1  4757308  4761283  MACS_peak_1   71.60\n",
       "1  chr1  4766131  4771692  MACS_peak_2   77.89\n",
       "2  chr1  7083400  7088397  MACS_peak_3   75.09\n",
       "3  chr1  7162937  7168004  MACS_peak_4  111.72\n",
       "4  chr1  7386728  7389090  MACS_peak_5   71.67"
      ]
     },
     "execution_count": 8,
     "metadata": {},
     "output_type": "execute_result"
    }
   ],
   "source": [
    "raw_p_mm9.head()"
   ]
  },
  {
   "cell_type": "code",
   "execution_count": 9,
   "metadata": {},
   "outputs": [],
   "source": [
    "bed_name_mm9 = '/data2/josh/chipseq/Rad21/rad21_mm9.bed'\n",
    "raw_p_mm9.to_csv(bed_name_mm9,sep='\\t',index=False, header=False)"
   ]
  },
  {
   "cell_type": "code",
   "execution_count": null,
   "metadata": {},
   "outputs": [],
   "source": []
  }
 ],
 "metadata": {
  "kernelspec": {
   "display_name": "Python 3",
   "language": "python",
   "name": "python3"
  },
  "language_info": {
   "codemirror_mode": {
    "name": "ipython",
    "version": 3
   },
   "file_extension": ".py",
   "mimetype": "text/x-python",
   "name": "python",
   "nbconvert_exporter": "python",
   "pygments_lexer": "ipython3",
   "version": "3.4.3"
  }
 },
 "nbformat": 4,
 "nbformat_minor": 2
}
