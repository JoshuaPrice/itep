{
 "cells": [
  {
   "cell_type": "code",
   "execution_count": 2,
   "metadata": {},
   "outputs": [],
   "source": [
    "import pandas as pd\n",
    "import numpy as np\n",
    "from numpy.random import uniform"
   ]
  },
  {
   "cell_type": "code",
   "execution_count": 3,
   "metadata": {},
   "outputs": [
    {
     "data": {
      "text/html": [
       "<div>\n",
       "<style scoped>\n",
       "    .dataframe tbody tr th:only-of-type {\n",
       "        vertical-align: middle;\n",
       "    }\n",
       "\n",
       "    .dataframe tbody tr th {\n",
       "        vertical-align: top;\n",
       "    }\n",
       "\n",
       "    .dataframe thead th {\n",
       "        text-align: right;\n",
       "    }\n",
       "</style>\n",
       "<table border=\"1\" class=\"dataframe\">\n",
       "  <thead>\n",
       "    <tr style=\"text-align: right;\">\n",
       "      <th></th>\n",
       "      <th>Unnamed: 0</th>\n",
       "      <th>Unnamed: 0.1</th>\n",
       "      <th>Unnamed: 0.1.1</th>\n",
       "      <th>p_chr</th>\n",
       "      <th>p_start</th>\n",
       "      <th>p_end</th>\n",
       "      <th>p_dir</th>\n",
       "      <th>contact_id</th>\n",
       "      <th>e_chr</th>\n",
       "      <th>e_start</th>\n",
       "      <th>e_end</th>\n",
       "      <th>p_center</th>\n",
       "      <th>e_center</th>\n",
       "      <th>distance</th>\n",
       "      <th>ep_status</th>\n",
       "      <th>tad_status</th>\n",
       "      <th>p_chip</th>\n",
       "      <th>e_chip</th>\n",
       "      <th>p_tad</th>\n",
       "    </tr>\n",
       "  </thead>\n",
       "  <tbody>\n",
       "    <tr>\n",
       "      <th>0</th>\n",
       "      <td>0</td>\n",
       "      <td>0</td>\n",
       "      <td>89</td>\n",
       "      <td>chr1</td>\n",
       "      <td>36761793</td>\n",
       "      <td>36761843</td>\n",
       "      <td>+</td>\n",
       "      <td>EP00090</td>\n",
       "      <td>chr1</td>\n",
       "      <td>36768697</td>\n",
       "      <td>36769149</td>\n",
       "      <td>36761818.0</td>\n",
       "      <td>36768923.0</td>\n",
       "      <td>7105.0</td>\n",
       "      <td>N</td>\n",
       "      <td>TAD-less</td>\n",
       "      <td>False</td>\n",
       "      <td>False</td>\n",
       "      <td>-1</td>\n",
       "    </tr>\n",
       "    <tr>\n",
       "      <th>1</th>\n",
       "      <td>1</td>\n",
       "      <td>1</td>\n",
       "      <td>97</td>\n",
       "      <td>chr1</td>\n",
       "      <td>36761847</td>\n",
       "      <td>36761897</td>\n",
       "      <td>+</td>\n",
       "      <td>EP00098</td>\n",
       "      <td>chr1</td>\n",
       "      <td>36772356</td>\n",
       "      <td>36772792</td>\n",
       "      <td>36761872.0</td>\n",
       "      <td>36772574.0</td>\n",
       "      <td>10702.0</td>\n",
       "      <td>N</td>\n",
       "      <td>TAD-less</td>\n",
       "      <td>False</td>\n",
       "      <td>False</td>\n",
       "      <td>-1</td>\n",
       "    </tr>\n",
       "    <tr>\n",
       "      <th>2</th>\n",
       "      <td>2</td>\n",
       "      <td>2</td>\n",
       "      <td>98</td>\n",
       "      <td>chr1</td>\n",
       "      <td>36761847</td>\n",
       "      <td>36761897</td>\n",
       "      <td>+</td>\n",
       "      <td>EP00099</td>\n",
       "      <td>chr1</td>\n",
       "      <td>36781817</td>\n",
       "      <td>36782116</td>\n",
       "      <td>36761872.0</td>\n",
       "      <td>36781966.5</td>\n",
       "      <td>20094.5</td>\n",
       "      <td>N</td>\n",
       "      <td>Inter</td>\n",
       "      <td>False</td>\n",
       "      <td>False</td>\n",
       "      <td>-1</td>\n",
       "    </tr>\n",
       "    <tr>\n",
       "      <th>3</th>\n",
       "      <td>3</td>\n",
       "      <td>3</td>\n",
       "      <td>159</td>\n",
       "      <td>chr1</td>\n",
       "      <td>40429136</td>\n",
       "      <td>40429177</td>\n",
       "      <td>+</td>\n",
       "      <td>EP00160</td>\n",
       "      <td>chr1</td>\n",
       "      <td>40437105</td>\n",
       "      <td>40437287</td>\n",
       "      <td>40429156.5</td>\n",
       "      <td>40437196.0</td>\n",
       "      <td>8039.5</td>\n",
       "      <td>N</td>\n",
       "      <td>TAD-less</td>\n",
       "      <td>False</td>\n",
       "      <td>False</td>\n",
       "      <td>-1</td>\n",
       "    </tr>\n",
       "    <tr>\n",
       "      <th>4</th>\n",
       "      <td>4</td>\n",
       "      <td>4</td>\n",
       "      <td>189</td>\n",
       "      <td>chr1</td>\n",
       "      <td>42694813</td>\n",
       "      <td>42694877</td>\n",
       "      <td>-</td>\n",
       "      <td>EP00190</td>\n",
       "      <td>chr1</td>\n",
       "      <td>42684190</td>\n",
       "      <td>42684633</td>\n",
       "      <td>42694845.0</td>\n",
       "      <td>42684411.5</td>\n",
       "      <td>10433.5</td>\n",
       "      <td>EP</td>\n",
       "      <td>TAD-less</td>\n",
       "      <td>True</td>\n",
       "      <td>True</td>\n",
       "      <td>-1</td>\n",
       "    </tr>\n",
       "  </tbody>\n",
       "</table>\n",
       "</div>"
      ],
      "text/plain": [
       "   Unnamed: 0  Unnamed: 0.1  Unnamed: 0.1.1 p_chr   p_start     p_end p_dir  \\\n",
       "0           0             0              89  chr1  36761793  36761843     +   \n",
       "1           1             1              97  chr1  36761847  36761897     +   \n",
       "2           2             2              98  chr1  36761847  36761897     +   \n",
       "3           3             3             159  chr1  40429136  40429177     +   \n",
       "4           4             4             189  chr1  42694813  42694877     -   \n",
       "\n",
       "  contact_id e_chr   e_start     e_end    p_center    e_center  distance  \\\n",
       "0    EP00090  chr1  36768697  36769149  36761818.0  36768923.0    7105.0   \n",
       "1    EP00098  chr1  36772356  36772792  36761872.0  36772574.0   10702.0   \n",
       "2    EP00099  chr1  36781817  36782116  36761872.0  36781966.5   20094.5   \n",
       "3    EP00160  chr1  40437105  40437287  40429156.5  40437196.0    8039.5   \n",
       "4    EP00190  chr1  42684190  42684633  42694845.0  42684411.5   10433.5   \n",
       "\n",
       "  ep_status tad_status  p_chip  e_chip  p_tad  \n",
       "0         N   TAD-less   False   False     -1  \n",
       "1         N   TAD-less   False   False     -1  \n",
       "2         N      Inter   False   False     -1  \n",
       "3         N   TAD-less   False   False     -1  \n",
       "4        EP   TAD-less    True    True     -1  "
      ]
     },
     "execution_count": 3,
     "metadata": {},
     "output_type": "execute_result"
    }
   ],
   "source": [
    "# Start with H3K4me3\n",
    "ep_file = '../results/processed_h3k4me3.bed'\n",
    "ep = pd.read_csv(ep_file, delimiter='\\t')\n",
    "ep.head()"
   ]
  },
  {
   "cell_type": "code",
   "execution_count": 4,
   "metadata": {},
   "outputs": [],
   "source": [
    "intra_ep = ep[ep['tad_status']=='Intra']\n",
    "inter_ep = ep[ep['tad_status']=='Inter']"
   ]
  },
  {
   "cell_type": "code",
   "execution_count": 5,
   "metadata": {},
   "outputs": [],
   "source": [
    "prob_E = ep['ep_status'].value_counts()['N']/len(ep['ep_status'])\n",
    "prob_P = (ep['ep_status'].value_counts()['E'] + ep['ep_status'].value_counts()['EP'])/len(ep['ep_status'])\n",
    "prob_N = (ep['ep_status'].value_counts()['P'] + ep['ep_status'].value_counts()['EP'])/len(ep['ep_status'])\n",
    "prob_EP = ep['ep_status'].value_counts()['EP']/len(ep['ep_status'])"
   ]
  },
  {
   "cell_type": "code",
   "execution_count": 6,
   "metadata": {},
   "outputs": [],
   "source": [
    "prob_E_intra = intra_ep['ep_status'].value_counts()['N']/len(intra_ep['ep_status'])\n",
    "prob_P_intra = (intra_ep['ep_status'].value_counts()['E'] + intra_ep['ep_status'].value_counts()['EP'])/len(intra_ep['ep_status'])\n",
    "prob_N_intra = (intra_ep['ep_status'].value_counts()['P'] + intra_ep['ep_status'].value_counts()['EP'])/len(intra_ep['ep_status'])\n",
    "prob_EP_intra = intra_ep['ep_status'].value_counts()['EP']/len(intra_ep['ep_status'])"
   ]
  },
  {
   "cell_type": "code",
   "execution_count": 7,
   "metadata": {},
   "outputs": [],
   "source": [
    "prob_E_inter = inter_ep['ep_status'].value_counts()['N']/len(inter_ep['ep_status'])\n",
    "prob_P_inter = (inter_ep['ep_status'].value_counts()['E'] + inter_ep['ep_status'].value_counts()['EP'])/len(inter_ep['ep_status'])\n",
    "prob_N_inter = (inter_ep['ep_status'].value_counts()['P'] + inter_ep['ep_status'].value_counts()['EP'])/len(inter_ep['ep_status'])\n",
    "prob_EP_inter = inter_ep['ep_status'].value_counts()['EP']/len(inter_ep['ep_status'])"
   ]
  },
  {
   "cell_type": "code",
   "execution_count": 8,
   "metadata": {
    "scrolled": true
   },
   "outputs": [
    {
     "data": {
      "text/plain": [
       "0.32374100719424459"
      ]
     },
     "execution_count": 8,
     "metadata": {},
     "output_type": "execute_result"
    }
   ],
   "source": [
    "prob_EP_inter"
   ]
  },
  {
   "cell_type": "code",
   "execution_count": 16,
   "metadata": {},
   "outputs": [
    {
     "name": "stdout",
     "output_type": "stream",
     "text": [
      "0.0453566323265\n"
     ]
    }
   ],
   "source": [
    "randoms_per_sim = 100\n",
    "num_sims = 100000\n",
    "\n",
    "random_nums = uniform(0,1,(randoms_per_sim,num_sims))\n",
    "sims = sum(random_nums < prob_P)/randoms_per_sim # Have 1000 statistics (converting numbers into %'s')\n",
    "# stdev of SIMS is stdev to use for plots -- stdev of null hypothesis\n",
    "stdev = np.std(sims)\n",
    "print(stdev)\n",
    "\n",
    "# calculating p-vaue\n",
    "pval = sum(prob_P_intra < sims)/num_sims"
   ]
  },
  {
   "cell_type": "code",
   "execution_count": 217,
   "metadata": {},
   "outputs": [
    {
     "data": {
      "text/plain": [
       "-0.43565362136188862"
      ]
     },
     "execution_count": 217,
     "metadata": {},
     "output_type": "execute_result"
    }
   ],
   "source": [
    "(prob_EP - prob_EP_inter) / stdev"
   ]
  },
  {
   "cell_type": "code",
   "execution_count": null,
   "metadata": {},
   "outputs": [],
   "source": []
  }
 ],
 "metadata": {
  "kernelspec": {
   "display_name": "Python 3",
   "language": "python",
   "name": "python3"
  },
  "language_info": {
   "codemirror_mode": {
    "name": "ipython",
    "version": 3
   },
   "file_extension": ".py",
   "mimetype": "text/x-python",
   "name": "python",
   "nbconvert_exporter": "python",
   "pygments_lexer": "ipython3",
   "version": "3.4.3"
  }
 },
 "nbformat": 4,
 "nbformat_minor": 2
}
