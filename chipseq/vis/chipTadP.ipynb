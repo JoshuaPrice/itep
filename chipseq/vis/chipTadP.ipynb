{
 "cells": [
  {
   "cell_type": "code",
   "execution_count": 1,
   "metadata": {},
   "outputs": [],
   "source": [
    "import pandas as pd\n",
    "import cooler\n",
    "import matplotlib\n",
    "import matplotlib.pyplot as plt\n",
    "plt.style.use('fivethirtyeight')\n",
    "import numpy as np\n",
    "import seaborn as sns\n",
    "import pandas as pd\n",
    "%matplotlib inline"
   ]
  },
  {
   "cell_type": "code",
   "execution_count": 2,
   "metadata": {},
   "outputs": [
    {
     "data": {
      "text/html": [
       "<div>\n",
       "<style scoped>\n",
       "    .dataframe tbody tr th:only-of-type {\n",
       "        vertical-align: middle;\n",
       "    }\n",
       "\n",
       "    .dataframe tbody tr th {\n",
       "        vertical-align: top;\n",
       "    }\n",
       "\n",
       "    .dataframe thead th {\n",
       "        text-align: right;\n",
       "    }\n",
       "</style>\n",
       "<table border=\"1\" class=\"dataframe\">\n",
       "  <thead>\n",
       "    <tr style=\"text-align: right;\">\n",
       "      <th></th>\n",
       "      <th>name</th>\n",
       "      <th>length</th>\n",
       "    </tr>\n",
       "  </thead>\n",
       "  <tbody>\n",
       "    <tr>\n",
       "      <th>0</th>\n",
       "      <td>1</td>\n",
       "      <td>195471971</td>\n",
       "    </tr>\n",
       "    <tr>\n",
       "      <th>1</th>\n",
       "      <td>2</td>\n",
       "      <td>182113224</td>\n",
       "    </tr>\n",
       "    <tr>\n",
       "      <th>2</th>\n",
       "      <td>3</td>\n",
       "      <td>160039680</td>\n",
       "    </tr>\n",
       "    <tr>\n",
       "      <th>3</th>\n",
       "      <td>4</td>\n",
       "      <td>156508116</td>\n",
       "    </tr>\n",
       "    <tr>\n",
       "      <th>4</th>\n",
       "      <td>5</td>\n",
       "      <td>151834684</td>\n",
       "    </tr>\n",
       "  </tbody>\n",
       "</table>\n",
       "</div>"
      ],
      "text/plain": [
       "  name     length\n",
       "0    1  195471971\n",
       "1    2  182113224\n",
       "2    3  160039680\n",
       "3    4  156508116\n",
       "4    5  151834684"
      ]
     },
     "execution_count": 2,
     "metadata": {},
     "output_type": "execute_result"
    }
   ],
   "source": [
    "# Import and define chromosomes df - mm10\n",
    "c = cooler.Cooler('/data2/josh/stan/merge_res200.cool')\n",
    "chrs = c.chroms()[:]\n",
    "chrs['name'] = chrs['name'].str.replace('chr', '')\n",
    "chrs.set_index('name')"
   ]
  },
  {
   "cell_type": "code",
   "execution_count": 3,
   "metadata": {},
   "outputs": [
    {
     "data": {
      "text/html": [
       "<div>\n",
       "<style scoped>\n",
       "    .dataframe tbody tr th:only-of-type {\n",
       "        vertical-align: middle;\n",
       "    }\n",
       "\n",
       "    .dataframe tbody tr th {\n",
       "        vertical-align: top;\n",
       "    }\n",
       "\n",
       "    .dataframe thead th {\n",
       "        text-align: right;\n",
       "    }\n",
       "</style>\n",
       "<table border=\"1\" class=\"dataframe\">\n",
       "  <thead>\n",
       "    <tr style=\"text-align: right;\">\n",
       "      <th></th>\n",
       "      <th>chr</th>\n",
       "      <th>start</th>\n",
       "      <th>end</th>\n",
       "      <th>id</th>\n",
       "      <th>strength</th>\n",
       "    </tr>\n",
       "  </thead>\n",
       "  <tbody>\n",
       "    <tr>\n",
       "      <th>0</th>\n",
       "      <td>1</td>\n",
       "      <td>4176007</td>\n",
       "      <td>4176392</td>\n",
       "      <td>MACS_peak_1</td>\n",
       "      <td>51.04</td>\n",
       "    </tr>\n",
       "    <tr>\n",
       "      <th>1</th>\n",
       "      <td>1</td>\n",
       "      <td>4424728</td>\n",
       "      <td>4425019</td>\n",
       "      <td>MACS_peak_2</td>\n",
       "      <td>58.72</td>\n",
       "    </tr>\n",
       "    <tr>\n",
       "      <th>2</th>\n",
       "      <td>1</td>\n",
       "      <td>4770069</td>\n",
       "      <td>4770862</td>\n",
       "      <td>MACS_peak_3</td>\n",
       "      <td>178.45</td>\n",
       "    </tr>\n",
       "    <tr>\n",
       "      <th>3</th>\n",
       "      <td>1</td>\n",
       "      <td>4772649</td>\n",
       "      <td>4772973</td>\n",
       "      <td>MACS_peak_4</td>\n",
       "      <td>166.43</td>\n",
       "    </tr>\n",
       "    <tr>\n",
       "      <th>4</th>\n",
       "      <td>1</td>\n",
       "      <td>4773749</td>\n",
       "      <td>4776449</td>\n",
       "      <td>MACS_peak_5</td>\n",
       "      <td>636.48</td>\n",
       "    </tr>\n",
       "  </tbody>\n",
       "</table>\n",
       "</div>"
      ],
      "text/plain": [
       "  chr    start      end           id  strength\n",
       "0   1  4176007  4176392  MACS_peak_1     51.04\n",
       "1   1  4424728  4425019  MACS_peak_2     58.72\n",
       "2   1  4770069  4770862  MACS_peak_3    178.45\n",
       "3   1  4772649  4772973  MACS_peak_4    166.43\n",
       "4   1  4773749  4776449  MACS_peak_5    636.48"
      ]
     },
     "execution_count": 3,
     "metadata": {},
     "output_type": "execute_result"
    }
   ],
   "source": [
    "# Import H3K36ME3 chip-seq peaks - mm10\n",
    "chip = pd.read_csv('~/mlep/chipseq/macs14_peaks.bed', delimiter='\\t', header=None)\n",
    "chip.columns = ['chr', 'start', 'end', 'id', 'strength']\n",
    "chip.head()"
   ]
  },
  {
   "cell_type": "code",
   "execution_count": 4,
   "metadata": {},
   "outputs": [
    {
     "data": {
      "image/png": "[encoded data removed]",
      "text/plain": [
       "<Figure size 432x288 with 1 Axes>"
      ]
     },
     "metadata": {
      "needs_background": "light"
     },
     "output_type": "display_data"
    }
   ],
   "source": [
    "# Show strength distribution. What makes sense as a good cutoff?\n",
    "chip_weaker = chip[chip['strength'] < 500]\n",
    "fig = sns.distplot(chip_weaker['strength'], kde=False)\n",
    "plt.xlabel('ChIP Signal Strength')\n",
    "plt.xlabel('Frequency')\n",
    "plt.title('Distribution of Strengths in H3K36me3 ChIP-Seq Data')\n",
    "plt.savefig('chip_cutoff.png')"
   ]
  },
  {
   "cell_type": "code",
   "execution_count": 5,
   "metadata": {
    "scrolled": false
   },
   "outputs": [
    {
     "data": {
      "text/html": [
       "<div>\n",
       "<style scoped>\n",
       "    .dataframe tbody tr th:only-of-type {\n",
       "        vertical-align: middle;\n",
       "    }\n",
       "\n",
       "    .dataframe tbody tr th {\n",
       "        vertical-align: top;\n",
       "    }\n",
       "\n",
       "    .dataframe thead th {\n",
       "        text-align: right;\n",
       "    }\n",
       "</style>\n",
       "<table border=\"1\" class=\"dataframe\">\n",
       "  <thead>\n",
       "    <tr style=\"text-align: right;\">\n",
       "      <th></th>\n",
       "      <th>chr</th>\n",
       "      <th>pos</th>\n",
       "      <th>pos2</th>\n",
       "      <th>gene</th>\n",
       "      <th>score</th>\n",
       "      <th>strand</th>\n",
       "    </tr>\n",
       "  </thead>\n",
       "  <tbody>\n",
       "    <tr>\n",
       "      <th>0</th>\n",
       "      <td>chr1</td>\n",
       "      <td>3671723</td>\n",
       "      <td>3671723</td>\n",
       "      <td>Xkr4</td>\n",
       "      <td>4638</td>\n",
       "      <td>.</td>\n",
       "    </tr>\n",
       "    <tr>\n",
       "      <th>1</th>\n",
       "      <td>chr1</td>\n",
       "      <td>3671794</td>\n",
       "      <td>3671794</td>\n",
       "      <td>Xkr4</td>\n",
       "      <td>2432</td>\n",
       "      <td>.</td>\n",
       "    </tr>\n",
       "    <tr>\n",
       "      <th>2</th>\n",
       "      <td>chr1</td>\n",
       "      <td>4360242</td>\n",
       "      <td>4360242</td>\n",
       "      <td>Rp1</td>\n",
       "      <td>413</td>\n",
       "      <td>.</td>\n",
       "    </tr>\n",
       "    <tr>\n",
       "      <th>3</th>\n",
       "      <td>chr1</td>\n",
       "      <td>4360264</td>\n",
       "      <td>4360264</td>\n",
       "      <td>Rp1</td>\n",
       "      <td>4733</td>\n",
       "      <td>.</td>\n",
       "    </tr>\n",
       "    <tr>\n",
       "      <th>4</th>\n",
       "      <td>chr1</td>\n",
       "      <td>4409235</td>\n",
       "      <td>4409235</td>\n",
       "      <td>Rp1</td>\n",
       "      <td>371</td>\n",
       "      <td>.</td>\n",
       "    </tr>\n",
       "  </tbody>\n",
       "</table>\n",
       "</div>"
      ],
      "text/plain": [
       "    chr      pos     pos2  gene score strand\n",
       "0  chr1  3671723  3671723  Xkr4  4638      .\n",
       "1  chr1  3671794  3671794  Xkr4  2432      .\n",
       "2  chr1  4360242  4360242   Rp1   413      .\n",
       "3  chr1  4360264  4360264   Rp1  4733      .\n",
       "4  chr1  4409235  4409235   Rp1   371      ."
      ]
     },
     "execution_count": 5,
     "metadata": {},
     "output_type": "execute_result"
    }
   ],
   "source": [
    "# Import formatted mm10 FOCS promoter list\n",
    "promoters = pd.read_csv(\"/data2/josh/ep/focs_promoters_mm10.bed6\",\n",
    "            sep='\\t', \n",
    "            header=None, \n",
    "            names=['chr','pos','pos2','gene','score','strand']\n",
    "           )\n",
    "promoters.head()"
   ]
  },
  {
   "cell_type": "code",
   "execution_count": 6,
   "metadata": {
    "scrolled": true
   },
   "outputs": [],
   "source": [
    "# Label promoters as ChIP-seq overlapping or not (new column)\n",
    "promoters_chip_list = [None] * promoters.shape[0]\n",
    "for idx, row in promoters.iterrows():\n",
    "    chrom = row.chr[3:]\n",
    "    pos = row.pos\n",
    "    chip_matches = chip[(chip['chr'] == chrom) & (chip['start']-50 < pos) & (chip['end']+50 > pos)]\n",
    "    if chip_matches.empty:\n",
    "        promoters_chip_list[idx] = False\n",
    "    else:\n",
    "        promoters_chip_list[idx] = True\n",
    "\n",
    "promoters['chip'] = ''\n",
    "promoters['chip'] = promoters_chip_list\n",
    "# promoters['chip'] = [t[pos] > peaks['start'] for t in promoters]"
   ]
  },
  {
   "cell_type": "code",
   "execution_count": 7,
   "metadata": {},
   "outputs": [],
   "source": [
    "promoters.to_csv('labeled_promoters_chip1.bed',sep='\\t',index=True, header=True)"
   ]
  },
  {
   "cell_type": "code",
   "execution_count": 8,
   "metadata": {},
   "outputs": [
    {
     "data": {
      "text/plain": [
       "(2851, 7)"
      ]
     },
     "execution_count": 8,
     "metadata": {},
     "output_type": "execute_result"
    }
   ],
   "source": [
    "promoters[promoters['chip'] == True].shape"
   ]
  },
  {
   "cell_type": "code",
   "execution_count": 9,
   "metadata": {},
   "outputs": [
    {
     "data": {
      "text/html": [
       "<div>\n",
       "<style scoped>\n",
       "    .dataframe tbody tr th:only-of-type {\n",
       "        vertical-align: middle;\n",
       "    }\n",
       "\n",
       "    .dataframe tbody tr th {\n",
       "        vertical-align: top;\n",
       "    }\n",
       "\n",
       "    .dataframe thead th {\n",
       "        text-align: right;\n",
       "    }\n",
       "</style>\n",
       "<table border=\"1\" class=\"dataframe\">\n",
       "  <thead>\n",
       "    <tr style=\"text-align: right;\">\n",
       "      <th></th>\n",
       "      <th>chrom</th>\n",
       "      <th>start</th>\n",
       "      <th>end</th>\n",
       "    </tr>\n",
       "  </thead>\n",
       "  <tbody>\n",
       "    <tr>\n",
       "      <th>0</th>\n",
       "      <td>chr10</td>\n",
       "      <td>99635000</td>\n",
       "      <td>100285000</td>\n",
       "    </tr>\n",
       "    <tr>\n",
       "      <th>1</th>\n",
       "      <td>chr10</td>\n",
       "      <td>96115000</td>\n",
       "      <td>97315000</td>\n",
       "    </tr>\n",
       "    <tr>\n",
       "      <th>2</th>\n",
       "      <td>chr10</td>\n",
       "      <td>97345000</td>\n",
       "      <td>97700000</td>\n",
       "    </tr>\n",
       "    <tr>\n",
       "      <th>3</th>\n",
       "      <td>chr10</td>\n",
       "      <td>90060000</td>\n",
       "      <td>90695000</td>\n",
       "    </tr>\n",
       "    <tr>\n",
       "      <th>4</th>\n",
       "      <td>chr10</td>\n",
       "      <td>26360000</td>\n",
       "      <td>26915000</td>\n",
       "    </tr>\n",
       "  </tbody>\n",
       "</table>\n",
       "</div>"
      ],
      "text/plain": [
       "   chrom     start        end\n",
       "0  chr10  99635000  100285000\n",
       "1  chr10  96115000   97315000\n",
       "2  chr10  97345000   97700000\n",
       "3  chr10  90060000   90695000\n",
       "4  chr10  26360000   26915000"
      ]
     },
     "execution_count": 9,
     "metadata": {},
     "output_type": "execute_result"
    }
   ],
   "source": [
    "# Import TAD list\n",
    "tads = pd.read_csv('/data2/josh/tads/TAD_mm10.csv', delimiter='\\t')\n",
    "tads.head()"
   ]
  },
  {
   "cell_type": "code",
   "execution_count": 11,
   "metadata": {},
   "outputs": [],
   "source": [
    "# Label promoters with TADs\n",
    "promoters_tad_list = [None] * promoters.shape[0]\n",
    "for idx, row in promoters.iterrows():\n",
    "    chrom = row.chr\n",
    "    pos = row.pos\n",
    "    tad_matches = tads[(tads['chrom'] == chrom) & (tads['start'] < pos) & (tads['end'] > pos)]\n",
    "    if tad_matches.empty:\n",
    "        promoters_tad_list[idx] = -1\n",
    "    else:\n",
    "        promoters_tad_list[idx] = tad_matches.index\n",
    "\n",
    "promoters['tad'] = ''\n",
    "promoters['tad'] = promoters_tad_list"
   ]
  },
  {
   "cell_type": "code",
   "execution_count": null,
   "metadata": {},
   "outputs": [],
   "source": []
  }
 ],
 "metadata": {
  "kernelspec": {
   "display_name": "Python 3",
   "language": "python",
   "name": "python3"
  },
  "language_info": {
   "codemirror_mode": {
    "name": "ipython",
    "version": 3
   },
   "file_extension": ".py",
   "mimetype": "text/x-python",
   "name": "python",
   "nbconvert_exporter": "python",
   "pygments_lexer": "ipython3",
   "version": "3.4.3"
  }
 },
 "nbformat": 4,
 "nbformat_minor": 2
}
